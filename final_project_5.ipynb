{
 "cells": [
  {
   "cell_type": "code",
   "execution_count": 7,
   "metadata": {},
   "outputs": [
    {
     "data": {
      "text/html": [
       "<div>\n",
       "<style scoped>\n",
       "    .dataframe tbody tr th:only-of-type {\n",
       "        vertical-align: middle;\n",
       "    }\n",
       "\n",
       "    .dataframe tbody tr th {\n",
       "        vertical-align: top;\n",
       "    }\n",
       "\n",
       "    .dataframe thead th {\n",
       "        text-align: right;\n",
       "    }\n",
       "</style>\n",
       "<table border=\"1\" class=\"dataframe\">\n",
       "  <thead>\n",
       "    <tr style=\"text-align: right;\">\n",
       "      <th></th>\n",
       "      <th>Year</th>\n",
       "      <th>Month</th>\n",
       "      <th>Sector</th>\n",
       "      <th>Hydroelectric Power</th>\n",
       "      <th>Geothermal Energy</th>\n",
       "      <th>Solar Energy</th>\n",
       "      <th>Wind Energy</th>\n",
       "      <th>Wood Energy</th>\n",
       "      <th>Waste Energy</th>\n",
       "      <th>Fuel Ethanol, Excluding Denaturant</th>\n",
       "      <th>Biomass Losses and Co-products</th>\n",
       "      <th>Biomass Energy</th>\n",
       "      <th>Total Renewable Energy</th>\n",
       "      <th>Renewable Diesel Fuel</th>\n",
       "      <th>Other Biofuels</th>\n",
       "      <th>Conventional Hydroelectric Power</th>\n",
       "      <th>Biodiesel</th>\n",
       "    </tr>\n",
       "  </thead>\n",
       "  <tbody>\n",
       "    <tr>\n",
       "      <th>0</th>\n",
       "      <td>1973</td>\n",
       "      <td>1</td>\n",
       "      <td>Commerical</td>\n",
       "      <td>0.00</td>\n",
       "      <td>0.00</td>\n",
       "      <td>0.0</td>\n",
       "      <td>0.0</td>\n",
       "      <td>0.570</td>\n",
       "      <td>0.000</td>\n",
       "      <td>0.0</td>\n",
       "      <td>0.0</td>\n",
       "      <td>0.570</td>\n",
       "      <td>0.570</td>\n",
       "      <td>0.0</td>\n",
       "      <td>0.0</td>\n",
       "      <td>0.000</td>\n",
       "      <td>0.0</td>\n",
       "    </tr>\n",
       "    <tr>\n",
       "      <th>1</th>\n",
       "      <td>1973</td>\n",
       "      <td>1</td>\n",
       "      <td>Electric Power</td>\n",
       "      <td>0.00</td>\n",
       "      <td>0.49</td>\n",
       "      <td>0.0</td>\n",
       "      <td>0.0</td>\n",
       "      <td>0.054</td>\n",
       "      <td>0.157</td>\n",
       "      <td>0.0</td>\n",
       "      <td>0.0</td>\n",
       "      <td>0.211</td>\n",
       "      <td>89.223</td>\n",
       "      <td>0.0</td>\n",
       "      <td>0.0</td>\n",
       "      <td>88.522</td>\n",
       "      <td>0.0</td>\n",
       "    </tr>\n",
       "    <tr>\n",
       "      <th>2</th>\n",
       "      <td>1973</td>\n",
       "      <td>1</td>\n",
       "      <td>Industrial</td>\n",
       "      <td>1.04</td>\n",
       "      <td>0.00</td>\n",
       "      <td>0.0</td>\n",
       "      <td>0.0</td>\n",
       "      <td>98.933</td>\n",
       "      <td>0.000</td>\n",
       "      <td>0.0</td>\n",
       "      <td>0.0</td>\n",
       "      <td>98.933</td>\n",
       "      <td>99.973</td>\n",
       "      <td>0.0</td>\n",
       "      <td>0.0</td>\n",
       "      <td>0.000</td>\n",
       "      <td>0.0</td>\n",
       "    </tr>\n",
       "    <tr>\n",
       "      <th>3</th>\n",
       "      <td>1973</td>\n",
       "      <td>1</td>\n",
       "      <td>Residential</td>\n",
       "      <td>0.00</td>\n",
       "      <td>0.00</td>\n",
       "      <td>0.0</td>\n",
       "      <td>0.0</td>\n",
       "      <td>30.074</td>\n",
       "      <td>0.000</td>\n",
       "      <td>0.0</td>\n",
       "      <td>0.0</td>\n",
       "      <td>0.000</td>\n",
       "      <td>30.074</td>\n",
       "      <td>0.0</td>\n",
       "      <td>0.0</td>\n",
       "      <td>0.000</td>\n",
       "      <td>0.0</td>\n",
       "    </tr>\n",
       "    <tr>\n",
       "      <th>4</th>\n",
       "      <td>1973</td>\n",
       "      <td>1</td>\n",
       "      <td>Transportation</td>\n",
       "      <td>0.00</td>\n",
       "      <td>0.00</td>\n",
       "      <td>0.0</td>\n",
       "      <td>0.0</td>\n",
       "      <td>0.000</td>\n",
       "      <td>0.000</td>\n",
       "      <td>0.0</td>\n",
       "      <td>0.0</td>\n",
       "      <td>0.000</td>\n",
       "      <td>0.000</td>\n",
       "      <td>0.0</td>\n",
       "      <td>0.0</td>\n",
       "      <td>0.000</td>\n",
       "      <td>0.0</td>\n",
       "    </tr>\n",
       "  </tbody>\n",
       "</table>\n",
       "</div>"
      ],
      "text/plain": [
       "   Year  Month          Sector  Hydroelectric Power  Geothermal Energy  \\\n",
       "0  1973      1      Commerical                 0.00               0.00   \n",
       "1  1973      1  Electric Power                 0.00               0.49   \n",
       "2  1973      1      Industrial                 1.04               0.00   \n",
       "3  1973      1     Residential                 0.00               0.00   \n",
       "4  1973      1  Transportation                 0.00               0.00   \n",
       "\n",
       "   Solar Energy  Wind Energy  Wood Energy  Waste Energy  \\\n",
       "0           0.0          0.0        0.570         0.000   \n",
       "1           0.0          0.0        0.054         0.157   \n",
       "2           0.0          0.0       98.933         0.000   \n",
       "3           0.0          0.0       30.074         0.000   \n",
       "4           0.0          0.0        0.000         0.000   \n",
       "\n",
       "   Fuel Ethanol, Excluding Denaturant  Biomass Losses and Co-products  \\\n",
       "0                                 0.0                             0.0   \n",
       "1                                 0.0                             0.0   \n",
       "2                                 0.0                             0.0   \n",
       "3                                 0.0                             0.0   \n",
       "4                                 0.0                             0.0   \n",
       "\n",
       "   Biomass Energy  Total Renewable Energy  Renewable Diesel Fuel  \\\n",
       "0           0.570                   0.570                    0.0   \n",
       "1           0.211                  89.223                    0.0   \n",
       "2          98.933                  99.973                    0.0   \n",
       "3           0.000                  30.074                    0.0   \n",
       "4           0.000                   0.000                    0.0   \n",
       "\n",
       "   Other Biofuels  Conventional Hydroelectric Power  Biodiesel  \n",
       "0             0.0                             0.000        0.0  \n",
       "1             0.0                            88.522        0.0  \n",
       "2             0.0                             0.000        0.0  \n",
       "3             0.0                             0.000        0.0  \n",
       "4             0.0                             0.000        0.0  "
      ]
     },
     "execution_count": 7,
     "metadata": {},
     "output_type": "execute_result"
    }
   ],
   "source": [
    "# import library yang dibutuhkan\n",
    "import pandas as pd\n",
    "import matplotlib.pyplot as plt\n",
    "import seaborn as sns\n",
    "import plotly.express as px\n",
    "\n",
    "df = pd.read_csv(\"Renewable_energy_dataset.csv\")\n",
    "df.head()"
   ]
  },
  {
   "cell_type": "code",
   "execution_count": 8,
   "metadata": {},
   "outputs": [
    {
     "name": "stdout",
     "output_type": "stream",
     "text": [
      "<class 'pandas.core.frame.DataFrame'>\n",
      "RangeIndex: 3065 entries, 0 to 3064\n",
      "Data columns (total 17 columns):\n",
      " #   Column                              Non-Null Count  Dtype  \n",
      "---  ------                              --------------  -----  \n",
      " 0   Year                                3065 non-null   int64  \n",
      " 1   Month                               3065 non-null   int64  \n",
      " 2   Sector                              3065 non-null   object \n",
      " 3   Hydroelectric Power                 3065 non-null   float64\n",
      " 4   Geothermal Energy                   3065 non-null   float64\n",
      " 5   Solar Energy                        3065 non-null   float64\n",
      " 6   Wind Energy                         3065 non-null   float64\n",
      " 7   Wood Energy                         3065 non-null   float64\n",
      " 8   Waste Energy                        3065 non-null   float64\n",
      " 9   Fuel Ethanol, Excluding Denaturant  3065 non-null   float64\n",
      " 10  Biomass Losses and Co-products      3065 non-null   float64\n",
      " 11  Biomass Energy                      3065 non-null   float64\n",
      " 12  Total Renewable Energy              3065 non-null   float64\n",
      " 13  Renewable Diesel Fuel               3065 non-null   float64\n",
      " 14  Other Biofuels                      3065 non-null   float64\n",
      " 15  Conventional Hydroelectric Power    3065 non-null   float64\n",
      " 16  Biodiesel                           3065 non-null   float64\n",
      "dtypes: float64(14), int64(2), object(1)\n",
      "memory usage: 407.2+ KB\n"
     ]
    }
   ],
   "source": [
    "# data cleaning and preprocessing\n",
    "df.info()"
   ]
  },
  {
   "cell_type": "code",
   "execution_count": 9,
   "metadata": {},
   "outputs": [],
   "source": [
    "# change words that contain typing errors\n",
    "df['Sector'] = df['Sector'].replace('Commerical','Commercial')"
   ]
  },
  {
   "cell_type": "code",
   "execution_count": 10,
   "metadata": {},
   "outputs": [
    {
     "data": {
      "text/plain": [
       "0"
      ]
     },
     "execution_count": 10,
     "metadata": {},
     "output_type": "execute_result"
    }
   ],
   "source": [
    "# check duplicate value\n",
    "df.duplicated().sum()"
   ]
  },
  {
   "cell_type": "code",
   "execution_count": 11,
   "metadata": {},
   "outputs": [
    {
     "data": {
      "text/plain": [
       "Year                                  0\n",
       "Month                                 0\n",
       "Sector                                0\n",
       "Hydroelectric Power                   0\n",
       "Geothermal Energy                     0\n",
       "Solar Energy                          0\n",
       "Wind Energy                           0\n",
       "Wood Energy                           0\n",
       "Waste Energy                          0\n",
       "Fuel Ethanol, Excluding Denaturant    0\n",
       "Biomass Losses and Co-products        0\n",
       "Biomass Energy                        0\n",
       "Total Renewable Energy                0\n",
       "Renewable Diesel Fuel                 0\n",
       "Other Biofuels                        0\n",
       "Conventional Hydroelectric Power      0\n",
       "Biodiesel                             0\n",
       "dtype: int64"
      ]
     },
     "execution_count": 11,
     "metadata": {},
     "output_type": "execute_result"
    }
   ],
   "source": [
    "# check null value\n",
    "df.isna().sum()"
   ]
  },
  {
   "cell_type": "markdown",
   "metadata": {},
   "source": [
    "### **1. Pola grafik total penggunaan energi berdasarkan sumber energi di setiap tahunnya**"
   ]
  },
  {
   "cell_type": "code",
   "execution_count": 12,
   "metadata": {},
   "outputs": [
    {
     "data": {
      "text/html": [
       "<div>\n",
       "<style scoped>\n",
       "    .dataframe tbody tr th:only-of-type {\n",
       "        vertical-align: middle;\n",
       "    }\n",
       "\n",
       "    .dataframe tbody tr th {\n",
       "        vertical-align: top;\n",
       "    }\n",
       "\n",
       "    .dataframe thead th {\n",
       "        text-align: right;\n",
       "    }\n",
       "</style>\n",
       "<table border=\"1\" class=\"dataframe\">\n",
       "  <thead>\n",
       "    <tr style=\"text-align: right;\">\n",
       "      <th></th>\n",
       "      <th>Year</th>\n",
       "      <th>Hydroelectric Power</th>\n",
       "      <th>Geothermal Energy</th>\n",
       "      <th>Solar Energy</th>\n",
       "      <th>Wind Energy</th>\n",
       "      <th>Wood Energy</th>\n",
       "      <th>Waste Energy</th>\n",
       "      <th>Fuel Ethanol, Excluding Denaturant</th>\n",
       "      <th>Biomass Losses and Co-products</th>\n",
       "      <th>Biomass Energy</th>\n",
       "      <th>Total Renewable Energy</th>\n",
       "      <th>Renewable Diesel Fuel</th>\n",
       "      <th>Other Biofuels</th>\n",
       "      <th>Conventional Hydroelectric Power</th>\n",
       "      <th>Biodiesel</th>\n",
       "    </tr>\n",
       "  </thead>\n",
       "  <tbody>\n",
       "    <tr>\n",
       "      <th>0</th>\n",
       "      <td>1973</td>\n",
       "      <td>11.420</td>\n",
       "      <td>6.709</td>\n",
       "      <td>0.0</td>\n",
       "      <td>0.0</td>\n",
       "      <td>1527.016</td>\n",
       "      <td>2.055</td>\n",
       "      <td>0.0</td>\n",
       "      <td>0.0</td>\n",
       "      <td>1174.972</td>\n",
       "      <td>2475.547</td>\n",
       "      <td>0.0</td>\n",
       "      <td>0.0</td>\n",
       "      <td>928.347</td>\n",
       "      <td>0.0</td>\n",
       "    </tr>\n",
       "    <tr>\n",
       "      <th>1</th>\n",
       "      <td>1974</td>\n",
       "      <td>10.850</td>\n",
       "      <td>8.368</td>\n",
       "      <td>0.0</td>\n",
       "      <td>0.0</td>\n",
       "      <td>1537.761</td>\n",
       "      <td>1.902</td>\n",
       "      <td>0.0</td>\n",
       "      <td>0.0</td>\n",
       "      <td>1168.709</td>\n",
       "      <td>2586.002</td>\n",
       "      <td>0.0</td>\n",
       "      <td>0.0</td>\n",
       "      <td>1027.120</td>\n",
       "      <td>0.0</td>\n",
       "    </tr>\n",
       "    <tr>\n",
       "      <th>2</th>\n",
       "      <td>1975</td>\n",
       "      <td>10.597</td>\n",
       "      <td>11.077</td>\n",
       "      <td>0.0</td>\n",
       "      <td>0.0</td>\n",
       "      <td>1496.929</td>\n",
       "      <td>1.806</td>\n",
       "      <td>0.0</td>\n",
       "      <td>0.0</td>\n",
       "      <td>1073.324</td>\n",
       "      <td>2544.167</td>\n",
       "      <td>0.0</td>\n",
       "      <td>0.0</td>\n",
       "      <td>1023.758</td>\n",
       "      <td>0.0</td>\n",
       "    </tr>\n",
       "    <tr>\n",
       "      <th>3</th>\n",
       "      <td>1976</td>\n",
       "      <td>10.977</td>\n",
       "      <td>12.340</td>\n",
       "      <td>0.0</td>\n",
       "      <td>0.0</td>\n",
       "      <td>1711.487</td>\n",
       "      <td>1.889</td>\n",
       "      <td>0.0</td>\n",
       "      <td>0.0</td>\n",
       "      <td>1231.743</td>\n",
       "      <td>2704.699</td>\n",
       "      <td>0.0</td>\n",
       "      <td>0.0</td>\n",
       "      <td>968.010</td>\n",
       "      <td>0.0</td>\n",
       "    </tr>\n",
       "    <tr>\n",
       "      <th>4</th>\n",
       "      <td>1977</td>\n",
       "      <td>10.658</td>\n",
       "      <td>12.223</td>\n",
       "      <td>0.0</td>\n",
       "      <td>0.0</td>\n",
       "      <td>1836.521</td>\n",
       "      <td>1.808</td>\n",
       "      <td>0.0</td>\n",
       "      <td>0.0</td>\n",
       "      <td>1296.550</td>\n",
       "      <td>2613.470</td>\n",
       "      <td>0.0</td>\n",
       "      <td>0.0</td>\n",
       "      <td>752.259</td>\n",
       "      <td>0.0</td>\n",
       "    </tr>\n",
       "  </tbody>\n",
       "</table>\n",
       "</div>"
      ],
      "text/plain": [
       "   Year  Hydroelectric Power  Geothermal Energy  Solar Energy  Wind Energy  \\\n",
       "0  1973               11.420              6.709           0.0          0.0   \n",
       "1  1974               10.850              8.368           0.0          0.0   \n",
       "2  1975               10.597             11.077           0.0          0.0   \n",
       "3  1976               10.977             12.340           0.0          0.0   \n",
       "4  1977               10.658             12.223           0.0          0.0   \n",
       "\n",
       "   Wood Energy  Waste Energy  Fuel Ethanol, Excluding Denaturant  \\\n",
       "0     1527.016         2.055                                 0.0   \n",
       "1     1537.761         1.902                                 0.0   \n",
       "2     1496.929         1.806                                 0.0   \n",
       "3     1711.487         1.889                                 0.0   \n",
       "4     1836.521         1.808                                 0.0   \n",
       "\n",
       "   Biomass Losses and Co-products  Biomass Energy  Total Renewable Energy  \\\n",
       "0                             0.0        1174.972                2475.547   \n",
       "1                             0.0        1168.709                2586.002   \n",
       "2                             0.0        1073.324                2544.167   \n",
       "3                             0.0        1231.743                2704.699   \n",
       "4                             0.0        1296.550                2613.470   \n",
       "\n",
       "   Renewable Diesel Fuel  Other Biofuels  Conventional Hydroelectric Power  \\\n",
       "0                    0.0             0.0                           928.347   \n",
       "1                    0.0             0.0                          1027.120   \n",
       "2                    0.0             0.0                          1023.758   \n",
       "3                    0.0             0.0                           968.010   \n",
       "4                    0.0             0.0                           752.259   \n",
       "\n",
       "   Biodiesel  \n",
       "0        0.0  \n",
       "1        0.0  \n",
       "2        0.0  \n",
       "3        0.0  \n",
       "4        0.0  "
      ]
     },
     "execution_count": 12,
     "metadata": {},
     "output_type": "execute_result"
    }
   ],
   "source": [
    "# calculate the total energy consumption by energy types over the year\n",
    "year_on_year = df.groupby('Year')[df.select_dtypes(include='float').columns].sum().reset_index()\n",
    "year_on_year.head()"
   ]
  },
  {
   "cell_type": "code",
   "execution_count": 13,
   "metadata": {},
   "outputs": [
    {
     "data": {
      "text/plain": [
       "<matplotlib.legend.Legend at 0x281dd75a480>"
      ]
     },
     "execution_count": 13,
     "metadata": {},
     "output_type": "execute_result"
    },
    {
     "data": {
      "image/png": "[encoded data removed]",
      "text/plain": [
       "<Figure size 640x480 with 1 Axes>"
      ]
     },
     "metadata": {},
     "output_type": "display_data"
    }
   ],
   "source": [
    "# drop the column that unnecessary based on this problem\n",
    "energy_types = year_on_year.drop(columns=['Year','Biomass Energy','Total Renewable Energy']).columns\n",
    "\n",
    "# make a loop to iterate every column for visualization\n",
    "for energy in energy_types:\n",
    "    plt.plot(year_on_year['Year'], year_on_year[energy], label= energy)\n",
    "\n",
    "plt.title('Year on year Renewable Energy Consumption')\n",
    "plt.xlabel('Year')\n",
    "plt.ylabel('Total Energy Consumption (Trilliun BTU)')\n",
    "plt.grid(True)\n",
    "plt.legend(loc='upper left', bbox_to_anchor=(1,1))"
   ]
  },
  {
   "cell_type": "markdown",
   "metadata": {},
   "source": [
    "Berdasarkan grafik tersebut, dapat terlihat bahwa total energi terbarukan yang **paling sering digunakan** dari tahun ke tahun adalah energi yang bersumber dari **kayu** ***(wood energy)***. Konsumsi dari energi kayu mengalami tren yang **cukup konstan**, terutama dalam **20 tahun belakangan**. Akan tetapi, **terjadi kenaikan** konsumsi energi kayu yang cukup signifikan dalam **10 hingga 15 tahun pertama**, sebelum akhirnya mengalami penurunan lalu diikuti dengan fluktuasi yang cukup stabil hingga tahun 2024."
   ]
  },
  {
   "cell_type": "markdown",
   "metadata": {},
   "source": [
    "Selain itu, dari semua jenis energi terbarukan yang ada hanya **satu sumber energi** yang memiliki total konsumsi **stabil dan konstan**, yaitu energi yang bersumber dari **pembangkit listrik tenaga air konvensional**. Tren dari data menunjukkan bahwa **grafik konsumsi** dari energi ini **terbilang stabil**, sehingga tidak mengalami kenaikan maupun penurunan yang berarti. Ini menandakan bahwa energi tersebut dapat dikatakan menjadi **salah satu primadona** bagi sektor - sektor yang ada dalam memanfaatkannya sebagai sumber energi dari tahun ke tahun selain energi kayu."
   ]
  },
  {
   "cell_type": "markdown",
   "metadata": {},
   "source": [
    "Kemudian, ada **dua sumber energi** yang paling **kurang diminati** dari tahun ke tahun, yaitu energi yang bersumber dari **pembangkit listrik tenaga air** dan energi biofuel yang lain ***(Other biofuel)***. Sebaliknya, **sisa tipe energi** yang ada mengalami **lonjakan konsumsi** yang cukup tinggi dalam **20 tahun terakhir**. Hal ini dibuktikan dari **grafik** yang bergerak secara **eksponensial**. Tipe energi yang dimaksud di antaranya yaitu **energi angin** di posisi **pertama**, energi **ethanol** di posisi **kedua**, **sisa energi biomassa** dan produk turunannya di urutan **ketiga**, energi **matahari** di posisi **keempat**, energi **sampah/limbah** di posisi **kelima**, bahan bakar **diesel terbarukan** di posisi **keenam**, dan yang **terakhir** yaitu energi **biodiesel dan panas bumi**."
   ]
  },
  {
   "cell_type": "markdown",
   "metadata": {},
   "source": [
    "### **2. Pola grafik total penggunaan energi berdasarkan sektor di setiap tahunnya**"
   ]
  },
  {
   "cell_type": "code",
   "execution_count": 14,
   "metadata": {},
   "outputs": [
    {
     "data": {
      "text/html": [
       "<div>\n",
       "<style scoped>\n",
       "    .dataframe tbody tr th:only-of-type {\n",
       "        vertical-align: middle;\n",
       "    }\n",
       "\n",
       "    .dataframe tbody tr th {\n",
       "        vertical-align: top;\n",
       "    }\n",
       "\n",
       "    .dataframe thead th {\n",
       "        text-align: right;\n",
       "    }\n",
       "</style>\n",
       "<table border=\"1\" class=\"dataframe\">\n",
       "  <thead>\n",
       "    <tr style=\"text-align: right;\">\n",
       "      <th></th>\n",
       "      <th>Sector</th>\n",
       "      <th>Hydroelectric Power</th>\n",
       "      <th>Geothermal Energy</th>\n",
       "      <th>Solar Energy</th>\n",
       "      <th>Wind Energy</th>\n",
       "      <th>Wood Energy</th>\n",
       "      <th>Waste Energy</th>\n",
       "      <th>Fuel Ethanol, Excluding Denaturant</th>\n",
       "      <th>Biomass Losses and Co-products</th>\n",
       "      <th>Biomass Energy</th>\n",
       "      <th>Total Renewable Energy</th>\n",
       "      <th>Renewable Diesel Fuel</th>\n",
       "      <th>Other Biofuels</th>\n",
       "      <th>Conventional Hydroelectric Power</th>\n",
       "      <th>Biodiesel</th>\n",
       "    </tr>\n",
       "  </thead>\n",
       "  <tbody>\n",
       "    <tr>\n",
       "      <th>0</th>\n",
       "      <td>Commercial</td>\n",
       "      <td>13.409</td>\n",
       "      <td>450.646</td>\n",
       "      <td>446.318</td>\n",
       "      <td>5.802</td>\n",
       "      <td>2868.583</td>\n",
       "      <td>1444.467</td>\n",
       "      <td>279.609</td>\n",
       "      <td>0.000</td>\n",
       "      <td>4592.659</td>\n",
       "      <td>5509.491</td>\n",
       "      <td>0.000</td>\n",
       "      <td>0.000</td>\n",
       "      <td>0.000</td>\n",
       "      <td>0.000</td>\n",
       "    </tr>\n",
       "    <tr>\n",
       "      <th>1</th>\n",
       "      <td>Electric Power</td>\n",
       "      <td>0.000</td>\n",
       "      <td>2132.048</td>\n",
       "      <td>2765.146</td>\n",
       "      <td>13114.608</td>\n",
       "      <td>6083.807</td>\n",
       "      <td>8873.151</td>\n",
       "      <td>0.000</td>\n",
       "      <td>0.000</td>\n",
       "      <td>14956.952</td>\n",
       "      <td>81265.086</td>\n",
       "      <td>0.000</td>\n",
       "      <td>0.000</td>\n",
       "      <td>48296.351</td>\n",
       "      <td>0.000</td>\n",
       "    </tr>\n",
       "    <tr>\n",
       "      <th>2</th>\n",
       "      <td>Industrial</td>\n",
       "      <td>506.902</td>\n",
       "      <td>132.217</td>\n",
       "      <td>111.765</td>\n",
       "      <td>5.159</td>\n",
       "      <td>74538.427</td>\n",
       "      <td>7521.062</td>\n",
       "      <td>339.035</td>\n",
       "      <td>14818.375</td>\n",
       "      <td>97216.902</td>\n",
       "      <td>97972.964</td>\n",
       "      <td>0.000</td>\n",
       "      <td>0.000</td>\n",
       "      <td>0.000</td>\n",
       "      <td>0.000</td>\n",
       "    </tr>\n",
       "    <tr>\n",
       "      <th>3</th>\n",
       "      <td>Residential</td>\n",
       "      <td>0.000</td>\n",
       "      <td>798.711</td>\n",
       "      <td>2852.771</td>\n",
       "      <td>0.000</td>\n",
       "      <td>28824.295</td>\n",
       "      <td>0.000</td>\n",
       "      <td>0.000</td>\n",
       "      <td>0.000</td>\n",
       "      <td>0.000</td>\n",
       "      <td>32475.780</td>\n",
       "      <td>0.000</td>\n",
       "      <td>0.000</td>\n",
       "      <td>0.000</td>\n",
       "      <td>0.000</td>\n",
       "    </tr>\n",
       "    <tr>\n",
       "      <th>4</th>\n",
       "      <td>Transportation</td>\n",
       "      <td>0.000</td>\n",
       "      <td>0.000</td>\n",
       "      <td>0.000</td>\n",
       "      <td>0.000</td>\n",
       "      <td>0.000</td>\n",
       "      <td>0.000</td>\n",
       "      <td>20764.782</td>\n",
       "      <td>0.000</td>\n",
       "      <td>25099.983</td>\n",
       "      <td>0.000</td>\n",
       "      <td>1314.728</td>\n",
       "      <td>97.321</td>\n",
       "      <td>0.000</td>\n",
       "      <td>2923.152</td>\n",
       "    </tr>\n",
       "  </tbody>\n",
       "</table>\n",
       "</div>"
      ],
      "text/plain": [
       "           Sector  Hydroelectric Power  Geothermal Energy  Solar Energy  \\\n",
       "0      Commercial               13.409            450.646       446.318   \n",
       "1  Electric Power                0.000           2132.048      2765.146   \n",
       "2      Industrial              506.902            132.217       111.765   \n",
       "3     Residential                0.000            798.711      2852.771   \n",
       "4  Transportation                0.000              0.000         0.000   \n",
       "\n",
       "   Wind Energy  Wood Energy  Waste Energy  Fuel Ethanol, Excluding Denaturant  \\\n",
       "0        5.802     2868.583      1444.467                             279.609   \n",
       "1    13114.608     6083.807      8873.151                               0.000   \n",
       "2        5.159    74538.427      7521.062                             339.035   \n",
       "3        0.000    28824.295         0.000                               0.000   \n",
       "4        0.000        0.000         0.000                           20764.782   \n",
       "\n",
       "   Biomass Losses and Co-products  Biomass Energy  Total Renewable Energy  \\\n",
       "0                           0.000        4592.659                5509.491   \n",
       "1                           0.000       14956.952               81265.086   \n",
       "2                       14818.375       97216.902               97972.964   \n",
       "3                           0.000           0.000               32475.780   \n",
       "4                           0.000       25099.983                   0.000   \n",
       "\n",
       "   Renewable Diesel Fuel  Other Biofuels  Conventional Hydroelectric Power  \\\n",
       "0                  0.000           0.000                             0.000   \n",
       "1                  0.000           0.000                         48296.351   \n",
       "2                  0.000           0.000                             0.000   \n",
       "3                  0.000           0.000                             0.000   \n",
       "4               1314.728          97.321                             0.000   \n",
       "\n",
       "   Biodiesel  \n",
       "0      0.000  \n",
       "1      0.000  \n",
       "2      0.000  \n",
       "3      0.000  \n",
       "4   2923.152  "
      ]
     },
     "execution_count": 14,
     "metadata": {},
     "output_type": "execute_result"
    }
   ],
   "source": [
    "df2 = df.drop(columns=['Year','Month'])\n",
    "energy_by_sector = df2.groupby('Sector')[df2.select_dtypes(include='float').columns].sum().reset_index()\n",
    "energy_by_sector"
   ]
  },
  {
   "cell_type": "code",
   "execution_count": 15,
   "metadata": {},
   "outputs": [
    {
     "data": {
      "text/html": [
       "<div>\n",
       "<style scoped>\n",
       "    .dataframe tbody tr th:only-of-type {\n",
       "        vertical-align: middle;\n",
       "    }\n",
       "\n",
       "    .dataframe tbody tr th {\n",
       "        vertical-align: top;\n",
       "    }\n",
       "\n",
       "    .dataframe thead th {\n",
       "        text-align: right;\n",
       "    }\n",
       "</style>\n",
       "<table border=\"1\" class=\"dataframe\">\n",
       "  <thead>\n",
       "    <tr style=\"text-align: right;\">\n",
       "      <th></th>\n",
       "      <th>Sector</th>\n",
       "      <th>Total_Energy_Consume</th>\n",
       "    </tr>\n",
       "  </thead>\n",
       "  <tbody>\n",
       "    <tr>\n",
       "      <th>0</th>\n",
       "      <td>Commercial</td>\n",
       "      <td>5508.834</td>\n",
       "    </tr>\n",
       "    <tr>\n",
       "      <th>1</th>\n",
       "      <td>Electric Power</td>\n",
       "      <td>81265.111</td>\n",
       "    </tr>\n",
       "    <tr>\n",
       "      <th>2</th>\n",
       "      <td>Industrial</td>\n",
       "      <td>97972.942</td>\n",
       "    </tr>\n",
       "    <tr>\n",
       "      <th>3</th>\n",
       "      <td>Residential</td>\n",
       "      <td>32475.777</td>\n",
       "    </tr>\n",
       "    <tr>\n",
       "      <th>4</th>\n",
       "      <td>Transportation</td>\n",
       "      <td>25099.983</td>\n",
       "    </tr>\n",
       "  </tbody>\n",
       "</table>\n",
       "</div>"
      ],
      "text/plain": [
       "           Sector  Total_Energy_Consume\n",
       "0      Commercial              5508.834\n",
       "1  Electric Power             81265.111\n",
       "2      Industrial             97972.942\n",
       "3     Residential             32475.777\n",
       "4  Transportation             25099.983"
      ]
     },
     "execution_count": 15,
     "metadata": {},
     "output_type": "execute_result"
    }
   ],
   "source": [
    "filter_data = energy_by_sector.drop(columns=['Biomass Energy','Total Renewable Energy'])\n",
    "total_energy = filter_data.drop(columns=['Sector']).sum(axis=1)\n",
    "\n",
    "filter_data['Total_Energy_Consume'] = total_energy\n",
    "total_energy_by_sector = filter_data[['Sector','Total_Energy_Consume']]\n",
    "total_energy_by_sector"
   ]
  },
  {
   "cell_type": "code",
   "execution_count": 16,
   "metadata": {},
   "outputs": [
    {
     "data": {
      "text/plain": [
       "array([ 5508.834, 81265.111, 97972.942, 32475.777, 25099.983])"
      ]
     },
     "execution_count": 16,
     "metadata": {},
     "output_type": "execute_result"
    }
   ],
   "source": [
    "total_energy_by_sector['Total_Energy_Consume'].values"
   ]
  },
  {
   "cell_type": "code",
   "execution_count": 17,
   "metadata": {},
   "outputs": [
    {
     "data": {
      "text/plain": [
       "Text(0, 0.5, 'Sector')"
      ]
     },
     "execution_count": 17,
     "metadata": {},
     "output_type": "execute_result"
    },
    {
     "data": {
      "image/png": "[encoded data removed]",
      "text/plain": [
       "<Figure size 800x400 with 1 Axes>"
      ]
     },
     "metadata": {},
     "output_type": "display_data"
    }
   ],
   "source": [
    "plt.figure(figsize=(8,4))\n",
    "plt.barh(total_energy_by_sector['Sector'], total_energy_by_sector['Total_Energy_Consume'])\n",
    "plt.title('Total Energy Consume by Sector')\n",
    "plt.xlabel('Total Energy Consume')\n",
    "plt.ylabel('Sector')"
   ]
  },
  {
   "cell_type": "markdown",
   "metadata": {},
   "source": [
    "Berdasarkan grafik tersebut, dapat diketahui bahwa sektor yang paling banyak menggunakan energi terbarukan adalah sektor industri dengan total energi hingga 98 ribu, diikuti dengan sektor pembangkit listrik di posisi kedua dengan total konsumsi sebesar 81 ribu, sektor perumahan di posisi ketiga dengan total konsumsi sebesar 32 ribu, sektor transportasi di posisi keempat dengan total energi sebesar 25 ribu, dan di posisi terakhir yaitu sektor komersial dengan total konsumsi energi sebesar 5500."
   ]
  },
  {
   "cell_type": "markdown",
   "metadata": {},
   "source": [
    "### **3. Bagaimana korelasi antara sektor dan sumber energi terbarukan yang selama ini digunakan di setiap tahunnya?**"
   ]
  },
  {
   "cell_type": "code",
   "execution_count": 18,
   "metadata": {},
   "outputs": [
    {
     "data": {
      "text/plain": [
       "array(['Commercial', 'Electric Power', 'Industrial', 'Residential',\n",
       "       'Transportation'], dtype=object)"
      ]
     },
     "execution_count": 18,
     "metadata": {},
     "output_type": "execute_result"
    }
   ],
   "source": [
    "df['Sector'].unique()"
   ]
  },
  {
   "cell_type": "code",
   "execution_count": 19,
   "metadata": {},
   "outputs": [],
   "source": [
    "# make a dummies variable so that the sector column can be use to calculate the correlation\n",
    "df_encode = pd.get_dummies(df, columns=['Sector'], drop_first=False)\n",
    "correlation_matrix = df_encode.drop(columns=['Year','Month','Biomass Energy', 'Total Renewable Energy']).corr()"
   ]
  },
  {
   "cell_type": "code",
   "execution_count": 20,
   "metadata": {},
   "outputs": [
    {
     "data": {
      "text/html": [
       "<div>\n",
       "<style scoped>\n",
       "    .dataframe tbody tr th:only-of-type {\n",
       "        vertical-align: middle;\n",
       "    }\n",
       "\n",
       "    .dataframe tbody tr th {\n",
       "        vertical-align: top;\n",
       "    }\n",
       "\n",
       "    .dataframe thead th {\n",
       "        text-align: right;\n",
       "    }\n",
       "</style>\n",
       "<table border=\"1\" class=\"dataframe\">\n",
       "  <thead>\n",
       "    <tr style=\"text-align: right;\">\n",
       "      <th></th>\n",
       "      <th>Hydroelectric Power</th>\n",
       "      <th>Geothermal Energy</th>\n",
       "      <th>Solar Energy</th>\n",
       "      <th>Wind Energy</th>\n",
       "      <th>Wood Energy</th>\n",
       "      <th>Waste Energy</th>\n",
       "      <th>Fuel Ethanol, Excluding Denaturant</th>\n",
       "      <th>Biomass Losses and Co-products</th>\n",
       "      <th>Renewable Diesel Fuel</th>\n",
       "      <th>Other Biofuels</th>\n",
       "      <th>Conventional Hydroelectric Power</th>\n",
       "      <th>Biodiesel</th>\n",
       "      <th>Sector_Commercial</th>\n",
       "      <th>Sector_Electric Power</th>\n",
       "      <th>Sector_Industrial</th>\n",
       "      <th>Sector_Residential</th>\n",
       "      <th>Sector_Transportation</th>\n",
       "    </tr>\n",
       "  </thead>\n",
       "  <tbody>\n",
       "    <tr>\n",
       "      <th>Hydroelectric Power</th>\n",
       "      <td>1.000000</td>\n",
       "      <td>-0.271442</td>\n",
       "      <td>-0.149577</td>\n",
       "      <td>-0.107242</td>\n",
       "      <td>0.815689</td>\n",
       "      <td>0.346844</td>\n",
       "      <td>-0.137173</td>\n",
       "      <td>0.288952</td>\n",
       "      <td>-0.072496</td>\n",
       "      <td>-0.055875</td>\n",
       "      <td>-0.222757</td>\n",
       "      <td>-0.108719</td>\n",
       "      <td>-0.197834</td>\n",
       "      <td>-0.227097</td>\n",
       "      <td>0.879125</td>\n",
       "      <td>-0.227097</td>\n",
       "      <td>-0.227097</td>\n",
       "    </tr>\n",
       "    <tr>\n",
       "      <th>Geothermal Energy</th>\n",
       "      <td>-0.271442</td>\n",
       "      <td>1.000000</td>\n",
       "      <td>0.464861</td>\n",
       "      <td>0.505556</td>\n",
       "      <td>-0.233729</td>\n",
       "      <td>0.542138</td>\n",
       "      <td>-0.229936</td>\n",
       "      <td>-0.161017</td>\n",
       "      <td>-0.118003</td>\n",
       "      <td>-0.090950</td>\n",
       "      <td>0.730018</td>\n",
       "      <td>-0.176965</td>\n",
       "      <td>-0.132600</td>\n",
       "      <td>0.751864</td>\n",
       "      <td>-0.300103</td>\n",
       "      <td>0.050492</td>\n",
       "      <td>-0.369652</td>\n",
       "    </tr>\n",
       "    <tr>\n",
       "      <th>Solar Energy</th>\n",
       "      <td>-0.149577</td>\n",
       "      <td>0.464861</td>\n",
       "      <td>1.000000</td>\n",
       "      <td>0.744309</td>\n",
       "      <td>-0.064180</td>\n",
       "      <td>0.128118</td>\n",
       "      <td>-0.108345</td>\n",
       "      <td>-0.081408</td>\n",
       "      <td>-0.055706</td>\n",
       "      <td>-0.042935</td>\n",
       "      <td>0.196049</td>\n",
       "      <td>-0.083540</td>\n",
       "      <td>-0.111449</td>\n",
       "      <td>0.216143</td>\n",
       "      <td>-0.158713</td>\n",
       "      <td>0.228522</td>\n",
       "      <td>-0.174503</td>\n",
       "    </tr>\n",
       "    <tr>\n",
       "      <th>Wind Energy</th>\n",
       "      <td>-0.107242</td>\n",
       "      <td>0.505556</td>\n",
       "      <td>0.744309</td>\n",
       "      <td>1.000000</td>\n",
       "      <td>-0.100915</td>\n",
       "      <td>0.403715</td>\n",
       "      <td>-0.075237</td>\n",
       "      <td>-0.072848</td>\n",
       "      <td>-0.037719</td>\n",
       "      <td>-0.029071</td>\n",
       "      <td>0.444992</td>\n",
       "      <td>-0.056565</td>\n",
       "      <td>-0.117895</td>\n",
       "      <td>0.472130</td>\n",
       "      <td>-0.117924</td>\n",
       "      <td>-0.118156</td>\n",
       "      <td>-0.118156</td>\n",
       "    </tr>\n",
       "    <tr>\n",
       "      <th>Wood Energy</th>\n",
       "      <td>0.815689</td>\n",
       "      <td>-0.233729</td>\n",
       "      <td>-0.064180</td>\n",
       "      <td>-0.100915</td>\n",
       "      <td>1.000000</td>\n",
       "      <td>0.358814</td>\n",
       "      <td>-0.235582</td>\n",
       "      <td>0.538292</td>\n",
       "      <td>-0.124730</td>\n",
       "      <td>-0.096134</td>\n",
       "      <td>-0.280909</td>\n",
       "      <td>-0.187052</td>\n",
       "      <td>-0.340827</td>\n",
       "      <td>-0.284901</td>\n",
       "      <td>0.905804</td>\n",
       "      <td>0.110649</td>\n",
       "      <td>-0.390724</td>\n",
       "    </tr>\n",
       "    <tr>\n",
       "      <th>Waste Energy</th>\n",
       "      <td>0.346844</td>\n",
       "      <td>0.542138</td>\n",
       "      <td>0.128118</td>\n",
       "      <td>0.403715</td>\n",
       "      <td>0.358814</td>\n",
       "      <td>1.000000</td>\n",
       "      <td>-0.214251</td>\n",
       "      <td>0.303493</td>\n",
       "      <td>-0.112657</td>\n",
       "      <td>-0.086829</td>\n",
       "      <td>0.518679</td>\n",
       "      <td>-0.168947</td>\n",
       "      <td>-0.210025</td>\n",
       "      <td>0.524789</td>\n",
       "      <td>0.391046</td>\n",
       "      <td>-0.352905</td>\n",
       "      <td>-0.352905</td>\n",
       "    </tr>\n",
       "    <tr>\n",
       "      <th>Fuel Ethanol, Excluding Denaturant</th>\n",
       "      <td>-0.137173</td>\n",
       "      <td>-0.229936</td>\n",
       "      <td>-0.108345</td>\n",
       "      <td>-0.075237</td>\n",
       "      <td>-0.235582</td>\n",
       "      <td>-0.214251</td>\n",
       "      <td>1.000000</td>\n",
       "      <td>-0.080803</td>\n",
       "      <td>0.628210</td>\n",
       "      <td>0.484820</td>\n",
       "      <td>-0.156180</td>\n",
       "      <td>0.912225</td>\n",
       "      <td>-0.148814</td>\n",
       "      <td>-0.159224</td>\n",
       "      <td>-0.146601</td>\n",
       "      <td>-0.159224</td>\n",
       "      <td>0.613862</td>\n",
       "    </tr>\n",
       "    <tr>\n",
       "      <th>Biomass Losses and Co-products</th>\n",
       "      <td>0.288952</td>\n",
       "      <td>-0.161017</td>\n",
       "      <td>-0.081408</td>\n",
       "      <td>-0.072848</td>\n",
       "      <td>0.538292</td>\n",
       "      <td>0.303493</td>\n",
       "      <td>-0.080803</td>\n",
       "      <td>1.000000</td>\n",
       "      <td>-0.049470</td>\n",
       "      <td>-0.038128</td>\n",
       "      <td>-0.152005</td>\n",
       "      <td>-0.074188</td>\n",
       "      <td>-0.154967</td>\n",
       "      <td>-0.154967</td>\n",
       "      <td>0.619867</td>\n",
       "      <td>-0.154967</td>\n",
       "      <td>-0.154967</td>\n",
       "    </tr>\n",
       "    <tr>\n",
       "      <th>Renewable Diesel Fuel</th>\n",
       "      <td>-0.072496</td>\n",
       "      <td>-0.118003</td>\n",
       "      <td>-0.055706</td>\n",
       "      <td>-0.037719</td>\n",
       "      <td>-0.124730</td>\n",
       "      <td>-0.112657</td>\n",
       "      <td>0.628210</td>\n",
       "      <td>-0.049470</td>\n",
       "      <td>1.000000</td>\n",
       "      <td>0.943786</td>\n",
       "      <td>-0.078282</td>\n",
       "      <td>0.736192</td>\n",
       "      <td>-0.079807</td>\n",
       "      <td>-0.079807</td>\n",
       "      <td>-0.079807</td>\n",
       "      <td>-0.079807</td>\n",
       "      <td>0.319228</td>\n",
       "    </tr>\n",
       "    <tr>\n",
       "      <th>Other Biofuels</th>\n",
       "      <td>-0.055875</td>\n",
       "      <td>-0.090950</td>\n",
       "      <td>-0.042935</td>\n",
       "      <td>-0.029071</td>\n",
       "      <td>-0.096134</td>\n",
       "      <td>-0.086829</td>\n",
       "      <td>0.484820</td>\n",
       "      <td>-0.038128</td>\n",
       "      <td>0.943786</td>\n",
       "      <td>1.000000</td>\n",
       "      <td>-0.060335</td>\n",
       "      <td>0.573188</td>\n",
       "      <td>-0.061510</td>\n",
       "      <td>-0.061510</td>\n",
       "      <td>-0.061510</td>\n",
       "      <td>-0.061510</td>\n",
       "      <td>0.246041</td>\n",
       "    </tr>\n",
       "    <tr>\n",
       "      <th>Conventional Hydroelectric Power</th>\n",
       "      <td>-0.222757</td>\n",
       "      <td>0.730018</td>\n",
       "      <td>0.196049</td>\n",
       "      <td>0.444992</td>\n",
       "      <td>-0.280909</td>\n",
       "      <td>0.518679</td>\n",
       "      <td>-0.156180</td>\n",
       "      <td>-0.152005</td>\n",
       "      <td>-0.078282</td>\n",
       "      <td>-0.060335</td>\n",
       "      <td>1.000000</td>\n",
       "      <td>-0.117396</td>\n",
       "      <td>-0.245222</td>\n",
       "      <td>0.980887</td>\n",
       "      <td>-0.245222</td>\n",
       "      <td>-0.245222</td>\n",
       "      <td>-0.245222</td>\n",
       "    </tr>\n",
       "    <tr>\n",
       "      <th>Biodiesel</th>\n",
       "      <td>-0.108719</td>\n",
       "      <td>-0.176965</td>\n",
       "      <td>-0.083540</td>\n",
       "      <td>-0.056565</td>\n",
       "      <td>-0.187052</td>\n",
       "      <td>-0.168947</td>\n",
       "      <td>0.912225</td>\n",
       "      <td>-0.074188</td>\n",
       "      <td>0.736192</td>\n",
       "      <td>0.573188</td>\n",
       "      <td>-0.117396</td>\n",
       "      <td>1.000000</td>\n",
       "      <td>-0.119683</td>\n",
       "      <td>-0.119683</td>\n",
       "      <td>-0.119683</td>\n",
       "      <td>-0.119683</td>\n",
       "      <td>0.478733</td>\n",
       "    </tr>\n",
       "    <tr>\n",
       "      <th>Sector_Commercial</th>\n",
       "      <td>-0.197834</td>\n",
       "      <td>-0.132600</td>\n",
       "      <td>-0.111449</td>\n",
       "      <td>-0.117895</td>\n",
       "      <td>-0.340827</td>\n",
       "      <td>-0.210025</td>\n",
       "      <td>-0.148814</td>\n",
       "      <td>-0.154967</td>\n",
       "      <td>-0.079807</td>\n",
       "      <td>-0.061510</td>\n",
       "      <td>-0.245222</td>\n",
       "      <td>-0.119683</td>\n",
       "      <td>1.000000</td>\n",
       "      <td>-0.250000</td>\n",
       "      <td>-0.250000</td>\n",
       "      <td>-0.250000</td>\n",
       "      <td>-0.250000</td>\n",
       "    </tr>\n",
       "    <tr>\n",
       "      <th>Sector_Electric Power</th>\n",
       "      <td>-0.227097</td>\n",
       "      <td>0.751864</td>\n",
       "      <td>0.216143</td>\n",
       "      <td>0.472130</td>\n",
       "      <td>-0.284901</td>\n",
       "      <td>0.524789</td>\n",
       "      <td>-0.159224</td>\n",
       "      <td>-0.154967</td>\n",
       "      <td>-0.079807</td>\n",
       "      <td>-0.061510</td>\n",
       "      <td>0.980887</td>\n",
       "      <td>-0.119683</td>\n",
       "      <td>-0.250000</td>\n",
       "      <td>1.000000</td>\n",
       "      <td>-0.250000</td>\n",
       "      <td>-0.250000</td>\n",
       "      <td>-0.250000</td>\n",
       "    </tr>\n",
       "    <tr>\n",
       "      <th>Sector_Industrial</th>\n",
       "      <td>0.879125</td>\n",
       "      <td>-0.300103</td>\n",
       "      <td>-0.158713</td>\n",
       "      <td>-0.117924</td>\n",
       "      <td>0.905804</td>\n",
       "      <td>0.391046</td>\n",
       "      <td>-0.146601</td>\n",
       "      <td>0.619867</td>\n",
       "      <td>-0.079807</td>\n",
       "      <td>-0.061510</td>\n",
       "      <td>-0.245222</td>\n",
       "      <td>-0.119683</td>\n",
       "      <td>-0.250000</td>\n",
       "      <td>-0.250000</td>\n",
       "      <td>1.000000</td>\n",
       "      <td>-0.250000</td>\n",
       "      <td>-0.250000</td>\n",
       "    </tr>\n",
       "    <tr>\n",
       "      <th>Sector_Residential</th>\n",
       "      <td>-0.227097</td>\n",
       "      <td>0.050492</td>\n",
       "      <td>0.228522</td>\n",
       "      <td>-0.118156</td>\n",
       "      <td>0.110649</td>\n",
       "      <td>-0.352905</td>\n",
       "      <td>-0.159224</td>\n",
       "      <td>-0.154967</td>\n",
       "      <td>-0.079807</td>\n",
       "      <td>-0.061510</td>\n",
       "      <td>-0.245222</td>\n",
       "      <td>-0.119683</td>\n",
       "      <td>-0.250000</td>\n",
       "      <td>-0.250000</td>\n",
       "      <td>-0.250000</td>\n",
       "      <td>1.000000</td>\n",
       "      <td>-0.250000</td>\n",
       "    </tr>\n",
       "    <tr>\n",
       "      <th>Sector_Transportation</th>\n",
       "      <td>-0.227097</td>\n",
       "      <td>-0.369652</td>\n",
       "      <td>-0.174503</td>\n",
       "      <td>-0.118156</td>\n",
       "      <td>-0.390724</td>\n",
       "      <td>-0.352905</td>\n",
       "      <td>0.613862</td>\n",
       "      <td>-0.154967</td>\n",
       "      <td>0.319228</td>\n",
       "      <td>0.246041</td>\n",
       "      <td>-0.245222</td>\n",
       "      <td>0.478733</td>\n",
       "      <td>-0.250000</td>\n",
       "      <td>-0.250000</td>\n",
       "      <td>-0.250000</td>\n",
       "      <td>-0.250000</td>\n",
       "      <td>1.000000</td>\n",
       "    </tr>\n",
       "  </tbody>\n",
       "</table>\n",
       "</div>"
      ],
      "text/plain": [
       "                                    Hydroelectric Power  Geothermal Energy  \\\n",
       "Hydroelectric Power                            1.000000          -0.271442   \n",
       "Geothermal Energy                             -0.271442           1.000000   \n",
       "Solar Energy                                  -0.149577           0.464861   \n",
       "Wind Energy                                   -0.107242           0.505556   \n",
       "Wood Energy                                    0.815689          -0.233729   \n",
       "Waste Energy                                   0.346844           0.542138   \n",
       "Fuel Ethanol, Excluding Denaturant            -0.137173          -0.229936   \n",
       "Biomass Losses and Co-products                 0.288952          -0.161017   \n",
       "Renewable Diesel Fuel                         -0.072496          -0.118003   \n",
       "Other Biofuels                                -0.055875          -0.090950   \n",
       "Conventional Hydroelectric Power              -0.222757           0.730018   \n",
       "Biodiesel                                     -0.108719          -0.176965   \n",
       "Sector_Commercial                             -0.197834          -0.132600   \n",
       "Sector_Electric Power                         -0.227097           0.751864   \n",
       "Sector_Industrial                              0.879125          -0.300103   \n",
       "Sector_Residential                            -0.227097           0.050492   \n",
       "Sector_Transportation                         -0.227097          -0.369652   \n",
       "\n",
       "                                    Solar Energy  Wind Energy  Wood Energy  \\\n",
       "Hydroelectric Power                    -0.149577    -0.107242     0.815689   \n",
       "Geothermal Energy                       0.464861     0.505556    -0.233729   \n",
       "Solar Energy                            1.000000     0.744309    -0.064180   \n",
       "Wind Energy                             0.744309     1.000000    -0.100915   \n",
       "Wood Energy                            -0.064180    -0.100915     1.000000   \n",
       "Waste Energy                            0.128118     0.403715     0.358814   \n",
       "Fuel Ethanol, Excluding Denaturant     -0.108345    -0.075237    -0.235582   \n",
       "Biomass Losses and Co-products         -0.081408    -0.072848     0.538292   \n",
       "Renewable Diesel Fuel                  -0.055706    -0.037719    -0.124730   \n",
       "Other Biofuels                         -0.042935    -0.029071    -0.096134   \n",
       "Conventional Hydroelectric Power        0.196049     0.444992    -0.280909   \n",
       "Biodiesel                              -0.083540    -0.056565    -0.187052   \n",
       "Sector_Commercial                      -0.111449    -0.117895    -0.340827   \n",
       "Sector_Electric Power                   0.216143     0.472130    -0.284901   \n",
       "Sector_Industrial                      -0.158713    -0.117924     0.905804   \n",
       "Sector_Residential                      0.228522    -0.118156     0.110649   \n",
       "Sector_Transportation                  -0.174503    -0.118156    -0.390724   \n",
       "\n",
       "                                    Waste Energy  \\\n",
       "Hydroelectric Power                     0.346844   \n",
       "Geothermal Energy                       0.542138   \n",
       "Solar Energy                            0.128118   \n",
       "Wind Energy                             0.403715   \n",
       "Wood Energy                             0.358814   \n",
       "Waste Energy                            1.000000   \n",
       "Fuel Ethanol, Excluding Denaturant     -0.214251   \n",
       "Biomass Losses and Co-products          0.303493   \n",
       "Renewable Diesel Fuel                  -0.112657   \n",
       "Other Biofuels                         -0.086829   \n",
       "Conventional Hydroelectric Power        0.518679   \n",
       "Biodiesel                              -0.168947   \n",
       "Sector_Commercial                      -0.210025   \n",
       "Sector_Electric Power                   0.524789   \n",
       "Sector_Industrial                       0.391046   \n",
       "Sector_Residential                     -0.352905   \n",
       "Sector_Transportation                  -0.352905   \n",
       "\n",
       "                                    Fuel Ethanol, Excluding Denaturant  \\\n",
       "Hydroelectric Power                                          -0.137173   \n",
       "Geothermal Energy                                            -0.229936   \n",
       "Solar Energy                                                 -0.108345   \n",
       "Wind Energy                                                  -0.075237   \n",
       "Wood Energy                                                  -0.235582   \n",
       "Waste Energy                                                 -0.214251   \n",
       "Fuel Ethanol, Excluding Denaturant                            1.000000   \n",
       "Biomass Losses and Co-products                               -0.080803   \n",
       "Renewable Diesel Fuel                                         0.628210   \n",
       "Other Biofuels                                                0.484820   \n",
       "Conventional Hydroelectric Power                             -0.156180   \n",
       "Biodiesel                                                     0.912225   \n",
       "Sector_Commercial                                            -0.148814   \n",
       "Sector_Electric Power                                        -0.159224   \n",
       "Sector_Industrial                                            -0.146601   \n",
       "Sector_Residential                                           -0.159224   \n",
       "Sector_Transportation                                         0.613862   \n",
       "\n",
       "                                    Biomass Losses and Co-products  \\\n",
       "Hydroelectric Power                                       0.288952   \n",
       "Geothermal Energy                                        -0.161017   \n",
       "Solar Energy                                             -0.081408   \n",
       "Wind Energy                                              -0.072848   \n",
       "Wood Energy                                               0.538292   \n",
       "Waste Energy                                              0.303493   \n",
       "Fuel Ethanol, Excluding Denaturant                       -0.080803   \n",
       "Biomass Losses and Co-products                            1.000000   \n",
       "Renewable Diesel Fuel                                    -0.049470   \n",
       "Other Biofuels                                           -0.038128   \n",
       "Conventional Hydroelectric Power                         -0.152005   \n",
       "Biodiesel                                                -0.074188   \n",
       "Sector_Commercial                                        -0.154967   \n",
       "Sector_Electric Power                                    -0.154967   \n",
       "Sector_Industrial                                         0.619867   \n",
       "Sector_Residential                                       -0.154967   \n",
       "Sector_Transportation                                    -0.154967   \n",
       "\n",
       "                                    Renewable Diesel Fuel  Other Biofuels  \\\n",
       "Hydroelectric Power                             -0.072496       -0.055875   \n",
       "Geothermal Energy                               -0.118003       -0.090950   \n",
       "Solar Energy                                    -0.055706       -0.042935   \n",
       "Wind Energy                                     -0.037719       -0.029071   \n",
       "Wood Energy                                     -0.124730       -0.096134   \n",
       "Waste Energy                                    -0.112657       -0.086829   \n",
       "Fuel Ethanol, Excluding Denaturant               0.628210        0.484820   \n",
       "Biomass Losses and Co-products                  -0.049470       -0.038128   \n",
       "Renewable Diesel Fuel                            1.000000        0.943786   \n",
       "Other Biofuels                                   0.943786        1.000000   \n",
       "Conventional Hydroelectric Power                -0.078282       -0.060335   \n",
       "Biodiesel                                        0.736192        0.573188   \n",
       "Sector_Commercial                               -0.079807       -0.061510   \n",
       "Sector_Electric Power                           -0.079807       -0.061510   \n",
       "Sector_Industrial                               -0.079807       -0.061510   \n",
       "Sector_Residential                              -0.079807       -0.061510   \n",
       "Sector_Transportation                            0.319228        0.246041   \n",
       "\n",
       "                                    Conventional Hydroelectric Power  \\\n",
       "Hydroelectric Power                                        -0.222757   \n",
       "Geothermal Energy                                           0.730018   \n",
       "Solar Energy                                                0.196049   \n",
       "Wind Energy                                                 0.444992   \n",
       "Wood Energy                                                -0.280909   \n",
       "Waste Energy                                                0.518679   \n",
       "Fuel Ethanol, Excluding Denaturant                         -0.156180   \n",
       "Biomass Losses and Co-products                             -0.152005   \n",
       "Renewable Diesel Fuel                                      -0.078282   \n",
       "Other Biofuels                                             -0.060335   \n",
       "Conventional Hydroelectric Power                            1.000000   \n",
       "Biodiesel                                                  -0.117396   \n",
       "Sector_Commercial                                          -0.245222   \n",
       "Sector_Electric Power                                       0.980887   \n",
       "Sector_Industrial                                          -0.245222   \n",
       "Sector_Residential                                         -0.245222   \n",
       "Sector_Transportation                                      -0.245222   \n",
       "\n",
       "                                    Biodiesel  Sector_Commercial  \\\n",
       "Hydroelectric Power                 -0.108719          -0.197834   \n",
       "Geothermal Energy                   -0.176965          -0.132600   \n",
       "Solar Energy                        -0.083540          -0.111449   \n",
       "Wind Energy                         -0.056565          -0.117895   \n",
       "Wood Energy                         -0.187052          -0.340827   \n",
       "Waste Energy                        -0.168947          -0.210025   \n",
       "Fuel Ethanol, Excluding Denaturant   0.912225          -0.148814   \n",
       "Biomass Losses and Co-products      -0.074188          -0.154967   \n",
       "Renewable Diesel Fuel                0.736192          -0.079807   \n",
       "Other Biofuels                       0.573188          -0.061510   \n",
       "Conventional Hydroelectric Power    -0.117396          -0.245222   \n",
       "Biodiesel                            1.000000          -0.119683   \n",
       "Sector_Commercial                   -0.119683           1.000000   \n",
       "Sector_Electric Power               -0.119683          -0.250000   \n",
       "Sector_Industrial                   -0.119683          -0.250000   \n",
       "Sector_Residential                  -0.119683          -0.250000   \n",
       "Sector_Transportation                0.478733          -0.250000   \n",
       "\n",
       "                                    Sector_Electric Power  Sector_Industrial  \\\n",
       "Hydroelectric Power                             -0.227097           0.879125   \n",
       "Geothermal Energy                                0.751864          -0.300103   \n",
       "Solar Energy                                     0.216143          -0.158713   \n",
       "Wind Energy                                      0.472130          -0.117924   \n",
       "Wood Energy                                     -0.284901           0.905804   \n",
       "Waste Energy                                     0.524789           0.391046   \n",
       "Fuel Ethanol, Excluding Denaturant              -0.159224          -0.146601   \n",
       "Biomass Losses and Co-products                  -0.154967           0.619867   \n",
       "Renewable Diesel Fuel                           -0.079807          -0.079807   \n",
       "Other Biofuels                                  -0.061510          -0.061510   \n",
       "Conventional Hydroelectric Power                 0.980887          -0.245222   \n",
       "Biodiesel                                       -0.119683          -0.119683   \n",
       "Sector_Commercial                               -0.250000          -0.250000   \n",
       "Sector_Electric Power                            1.000000          -0.250000   \n",
       "Sector_Industrial                               -0.250000           1.000000   \n",
       "Sector_Residential                              -0.250000          -0.250000   \n",
       "Sector_Transportation                           -0.250000          -0.250000   \n",
       "\n",
       "                                    Sector_Residential  Sector_Transportation  \n",
       "Hydroelectric Power                          -0.227097              -0.227097  \n",
       "Geothermal Energy                             0.050492              -0.369652  \n",
       "Solar Energy                                  0.228522              -0.174503  \n",
       "Wind Energy                                  -0.118156              -0.118156  \n",
       "Wood Energy                                   0.110649              -0.390724  \n",
       "Waste Energy                                 -0.352905              -0.352905  \n",
       "Fuel Ethanol, Excluding Denaturant           -0.159224               0.613862  \n",
       "Biomass Losses and Co-products               -0.154967              -0.154967  \n",
       "Renewable Diesel Fuel                        -0.079807               0.319228  \n",
       "Other Biofuels                               -0.061510               0.246041  \n",
       "Conventional Hydroelectric Power             -0.245222              -0.245222  \n",
       "Biodiesel                                    -0.119683               0.478733  \n",
       "Sector_Commercial                            -0.250000              -0.250000  \n",
       "Sector_Electric Power                        -0.250000              -0.250000  \n",
       "Sector_Industrial                            -0.250000              -0.250000  \n",
       "Sector_Residential                            1.000000              -0.250000  \n",
       "Sector_Transportation                        -0.250000               1.000000  "
      ]
     },
     "execution_count": 20,
     "metadata": {},
     "output_type": "execute_result"
    }
   ],
   "source": [
    "correlation_matrix"
   ]
  },
  {
   "cell_type": "code",
   "execution_count": 21,
   "metadata": {},
   "outputs": [
    {
     "data": {
      "text/plain": [
       "<Figure size 2000x1000 with 0 Axes>"
      ]
     },
     "execution_count": 21,
     "metadata": {},
     "output_type": "execute_result"
    },
    {
     "data": {
      "image/png": "[encoded data removed]",
      "text/plain": [
       "<Figure size 640x480 with 2 Axes>"
      ]
     },
     "metadata": {},
     "output_type": "display_data"
    },
    {
     "data": {
      "text/plain": [
       "<Figure size 2000x1000 with 0 Axes>"
      ]
     },
     "metadata": {},
     "output_type": "display_data"
    }
   ],
   "source": [
    "heatmap = sns.heatmap(correlation_matrix, annot=True, fmt='.2f',\n",
    "                      cmap='rocket', annot_kws={'size': 5}, cbar_kws={'shrink': 0.8})\n",
    "heatmap.set_xticklabels(heatmap.get_xticklabels(), fontsize=6)\n",
    "heatmap.set_yticklabels(heatmap.get_yticklabels(), fontsize=6)\n",
    "plt.figure(figsize=(20,10))"
   ]
  },
  {
   "cell_type": "code",
   "execution_count": 22,
   "metadata": {},
   "outputs": [
    {
     "data": {
      "text/html": [
       "<div>\n",
       "<style scoped>\n",
       "    .dataframe tbody tr th:only-of-type {\n",
       "        vertical-align: middle;\n",
       "    }\n",
       "\n",
       "    .dataframe tbody tr th {\n",
       "        vertical-align: top;\n",
       "    }\n",
       "\n",
       "    .dataframe thead th {\n",
       "        text-align: right;\n",
       "    }\n",
       "</style>\n",
       "<table border=\"1\" class=\"dataframe\">\n",
       "  <thead>\n",
       "    <tr style=\"text-align: right;\">\n",
       "      <th></th>\n",
       "      <th>Hydroelectric Power</th>\n",
       "      <th>Geothermal Energy</th>\n",
       "      <th>Solar Energy</th>\n",
       "      <th>Wind Energy</th>\n",
       "      <th>Wood Energy</th>\n",
       "      <th>Waste Energy</th>\n",
       "      <th>Fuel Ethanol, Excluding Denaturant</th>\n",
       "      <th>Biomass Losses and Co-products</th>\n",
       "      <th>Renewable Diesel Fuel</th>\n",
       "      <th>Other Biofuels</th>\n",
       "      <th>Conventional Hydroelectric Power</th>\n",
       "      <th>Biodiesel</th>\n",
       "      <th>Sector_Commercial</th>\n",
       "      <th>Sector_Electric Power</th>\n",
       "      <th>Sector_Industrial</th>\n",
       "      <th>Sector_Residential</th>\n",
       "      <th>Sector_Transportation</th>\n",
       "    </tr>\n",
       "  </thead>\n",
       "  <tbody>\n",
       "    <tr>\n",
       "      <th>Hydroelectric Power</th>\n",
       "      <td>1.000000</td>\n",
       "      <td>NaN</td>\n",
       "      <td>NaN</td>\n",
       "      <td>NaN</td>\n",
       "      <td>0.815689</td>\n",
       "      <td>NaN</td>\n",
       "      <td>NaN</td>\n",
       "      <td>NaN</td>\n",
       "      <td>NaN</td>\n",
       "      <td>NaN</td>\n",
       "      <td>NaN</td>\n",
       "      <td>NaN</td>\n",
       "      <td>NaN</td>\n",
       "      <td>NaN</td>\n",
       "      <td>0.879125</td>\n",
       "      <td>NaN</td>\n",
       "      <td>NaN</td>\n",
       "    </tr>\n",
       "    <tr>\n",
       "      <th>Geothermal Energy</th>\n",
       "      <td>NaN</td>\n",
       "      <td>1.000000</td>\n",
       "      <td>NaN</td>\n",
       "      <td>0.505556</td>\n",
       "      <td>NaN</td>\n",
       "      <td>0.542138</td>\n",
       "      <td>NaN</td>\n",
       "      <td>NaN</td>\n",
       "      <td>NaN</td>\n",
       "      <td>NaN</td>\n",
       "      <td>0.730018</td>\n",
       "      <td>NaN</td>\n",
       "      <td>NaN</td>\n",
       "      <td>0.751864</td>\n",
       "      <td>NaN</td>\n",
       "      <td>NaN</td>\n",
       "      <td>NaN</td>\n",
       "    </tr>\n",
       "    <tr>\n",
       "      <th>Solar Energy</th>\n",
       "      <td>NaN</td>\n",
       "      <td>NaN</td>\n",
       "      <td>1.000000</td>\n",
       "      <td>0.744309</td>\n",
       "      <td>NaN</td>\n",
       "      <td>NaN</td>\n",
       "      <td>NaN</td>\n",
       "      <td>NaN</td>\n",
       "      <td>NaN</td>\n",
       "      <td>NaN</td>\n",
       "      <td>NaN</td>\n",
       "      <td>NaN</td>\n",
       "      <td>NaN</td>\n",
       "      <td>NaN</td>\n",
       "      <td>NaN</td>\n",
       "      <td>NaN</td>\n",
       "      <td>NaN</td>\n",
       "    </tr>\n",
       "    <tr>\n",
       "      <th>Wind Energy</th>\n",
       "      <td>NaN</td>\n",
       "      <td>0.505556</td>\n",
       "      <td>0.744309</td>\n",
       "      <td>1.000000</td>\n",
       "      <td>NaN</td>\n",
       "      <td>NaN</td>\n",
       "      <td>NaN</td>\n",
       "      <td>NaN</td>\n",
       "      <td>NaN</td>\n",
       "      <td>NaN</td>\n",
       "      <td>NaN</td>\n",
       "      <td>NaN</td>\n",
       "      <td>NaN</td>\n",
       "      <td>NaN</td>\n",
       "      <td>NaN</td>\n",
       "      <td>NaN</td>\n",
       "      <td>NaN</td>\n",
       "    </tr>\n",
       "    <tr>\n",
       "      <th>Wood Energy</th>\n",
       "      <td>0.815689</td>\n",
       "      <td>NaN</td>\n",
       "      <td>NaN</td>\n",
       "      <td>NaN</td>\n",
       "      <td>1.000000</td>\n",
       "      <td>NaN</td>\n",
       "      <td>NaN</td>\n",
       "      <td>0.538292</td>\n",
       "      <td>NaN</td>\n",
       "      <td>NaN</td>\n",
       "      <td>NaN</td>\n",
       "      <td>NaN</td>\n",
       "      <td>NaN</td>\n",
       "      <td>NaN</td>\n",
       "      <td>0.905804</td>\n",
       "      <td>NaN</td>\n",
       "      <td>NaN</td>\n",
       "    </tr>\n",
       "    <tr>\n",
       "      <th>Waste Energy</th>\n",
       "      <td>NaN</td>\n",
       "      <td>0.542138</td>\n",
       "      <td>NaN</td>\n",
       "      <td>NaN</td>\n",
       "      <td>NaN</td>\n",
       "      <td>1.000000</td>\n",
       "      <td>NaN</td>\n",
       "      <td>NaN</td>\n",
       "      <td>NaN</td>\n",
       "      <td>NaN</td>\n",
       "      <td>0.518679</td>\n",
       "      <td>NaN</td>\n",
       "      <td>NaN</td>\n",
       "      <td>0.524789</td>\n",
       "      <td>NaN</td>\n",
       "      <td>NaN</td>\n",
       "      <td>NaN</td>\n",
       "    </tr>\n",
       "    <tr>\n",
       "      <th>Fuel Ethanol, Excluding Denaturant</th>\n",
       "      <td>NaN</td>\n",
       "      <td>NaN</td>\n",
       "      <td>NaN</td>\n",
       "      <td>NaN</td>\n",
       "      <td>NaN</td>\n",
       "      <td>NaN</td>\n",
       "      <td>1.000000</td>\n",
       "      <td>NaN</td>\n",
       "      <td>0.628210</td>\n",
       "      <td>NaN</td>\n",
       "      <td>NaN</td>\n",
       "      <td>0.912225</td>\n",
       "      <td>NaN</td>\n",
       "      <td>NaN</td>\n",
       "      <td>NaN</td>\n",
       "      <td>NaN</td>\n",
       "      <td>0.613862</td>\n",
       "    </tr>\n",
       "    <tr>\n",
       "      <th>Biomass Losses and Co-products</th>\n",
       "      <td>NaN</td>\n",
       "      <td>NaN</td>\n",
       "      <td>NaN</td>\n",
       "      <td>NaN</td>\n",
       "      <td>0.538292</td>\n",
       "      <td>NaN</td>\n",
       "      <td>NaN</td>\n",
       "      <td>1.000000</td>\n",
       "      <td>NaN</td>\n",
       "      <td>NaN</td>\n",
       "      <td>NaN</td>\n",
       "      <td>NaN</td>\n",
       "      <td>NaN</td>\n",
       "      <td>NaN</td>\n",
       "      <td>0.619867</td>\n",
       "      <td>NaN</td>\n",
       "      <td>NaN</td>\n",
       "    </tr>\n",
       "    <tr>\n",
       "      <th>Renewable Diesel Fuel</th>\n",
       "      <td>NaN</td>\n",
       "      <td>NaN</td>\n",
       "      <td>NaN</td>\n",
       "      <td>NaN</td>\n",
       "      <td>NaN</td>\n",
       "      <td>NaN</td>\n",
       "      <td>0.628210</td>\n",
       "      <td>NaN</td>\n",
       "      <td>1.000000</td>\n",
       "      <td>0.943786</td>\n",
       "      <td>NaN</td>\n",
       "      <td>0.736192</td>\n",
       "      <td>NaN</td>\n",
       "      <td>NaN</td>\n",
       "      <td>NaN</td>\n",
       "      <td>NaN</td>\n",
       "      <td>NaN</td>\n",
       "    </tr>\n",
       "    <tr>\n",
       "      <th>Other Biofuels</th>\n",
       "      <td>NaN</td>\n",
       "      <td>NaN</td>\n",
       "      <td>NaN</td>\n",
       "      <td>NaN</td>\n",
       "      <td>NaN</td>\n",
       "      <td>NaN</td>\n",
       "      <td>NaN</td>\n",
       "      <td>NaN</td>\n",
       "      <td>0.943786</td>\n",
       "      <td>1.000000</td>\n",
       "      <td>NaN</td>\n",
       "      <td>0.573188</td>\n",
       "      <td>NaN</td>\n",
       "      <td>NaN</td>\n",
       "      <td>NaN</td>\n",
       "      <td>NaN</td>\n",
       "      <td>NaN</td>\n",
       "    </tr>\n",
       "    <tr>\n",
       "      <th>Conventional Hydroelectric Power</th>\n",
       "      <td>NaN</td>\n",
       "      <td>0.730018</td>\n",
       "      <td>NaN</td>\n",
       "      <td>NaN</td>\n",
       "      <td>NaN</td>\n",
       "      <td>0.518679</td>\n",
       "      <td>NaN</td>\n",
       "      <td>NaN</td>\n",
       "      <td>NaN</td>\n",
       "      <td>NaN</td>\n",
       "      <td>1.000000</td>\n",
       "      <td>NaN</td>\n",
       "      <td>NaN</td>\n",
       "      <td>0.980887</td>\n",
       "      <td>NaN</td>\n",
       "      <td>NaN</td>\n",
       "      <td>NaN</td>\n",
       "    </tr>\n",
       "    <tr>\n",
       "      <th>Biodiesel</th>\n",
       "      <td>NaN</td>\n",
       "      <td>NaN</td>\n",
       "      <td>NaN</td>\n",
       "      <td>NaN</td>\n",
       "      <td>NaN</td>\n",
       "      <td>NaN</td>\n",
       "      <td>0.912225</td>\n",
       "      <td>NaN</td>\n",
       "      <td>0.736192</td>\n",
       "      <td>0.573188</td>\n",
       "      <td>NaN</td>\n",
       "      <td>1.000000</td>\n",
       "      <td>NaN</td>\n",
       "      <td>NaN</td>\n",
       "      <td>NaN</td>\n",
       "      <td>NaN</td>\n",
       "      <td>NaN</td>\n",
       "    </tr>\n",
       "    <tr>\n",
       "      <th>Sector_Commercial</th>\n",
       "      <td>NaN</td>\n",
       "      <td>NaN</td>\n",
       "      <td>NaN</td>\n",
       "      <td>NaN</td>\n",
       "      <td>NaN</td>\n",
       "      <td>NaN</td>\n",
       "      <td>NaN</td>\n",
       "      <td>NaN</td>\n",
       "      <td>NaN</td>\n",
       "      <td>NaN</td>\n",
       "      <td>NaN</td>\n",
       "      <td>NaN</td>\n",
       "      <td>1.0</td>\n",
       "      <td>NaN</td>\n",
       "      <td>NaN</td>\n",
       "      <td>NaN</td>\n",
       "      <td>NaN</td>\n",
       "    </tr>\n",
       "    <tr>\n",
       "      <th>Sector_Electric Power</th>\n",
       "      <td>NaN</td>\n",
       "      <td>0.751864</td>\n",
       "      <td>NaN</td>\n",
       "      <td>NaN</td>\n",
       "      <td>NaN</td>\n",
       "      <td>0.524789</td>\n",
       "      <td>NaN</td>\n",
       "      <td>NaN</td>\n",
       "      <td>NaN</td>\n",
       "      <td>NaN</td>\n",
       "      <td>0.980887</td>\n",
       "      <td>NaN</td>\n",
       "      <td>NaN</td>\n",
       "      <td>1.000000</td>\n",
       "      <td>NaN</td>\n",
       "      <td>NaN</td>\n",
       "      <td>NaN</td>\n",
       "    </tr>\n",
       "    <tr>\n",
       "      <th>Sector_Industrial</th>\n",
       "      <td>0.879125</td>\n",
       "      <td>NaN</td>\n",
       "      <td>NaN</td>\n",
       "      <td>NaN</td>\n",
       "      <td>0.905804</td>\n",
       "      <td>NaN</td>\n",
       "      <td>NaN</td>\n",
       "      <td>0.619867</td>\n",
       "      <td>NaN</td>\n",
       "      <td>NaN</td>\n",
       "      <td>NaN</td>\n",
       "      <td>NaN</td>\n",
       "      <td>NaN</td>\n",
       "      <td>NaN</td>\n",
       "      <td>1.000000</td>\n",
       "      <td>NaN</td>\n",
       "      <td>NaN</td>\n",
       "    </tr>\n",
       "    <tr>\n",
       "      <th>Sector_Residential</th>\n",
       "      <td>NaN</td>\n",
       "      <td>NaN</td>\n",
       "      <td>NaN</td>\n",
       "      <td>NaN</td>\n",
       "      <td>NaN</td>\n",
       "      <td>NaN</td>\n",
       "      <td>NaN</td>\n",
       "      <td>NaN</td>\n",
       "      <td>NaN</td>\n",
       "      <td>NaN</td>\n",
       "      <td>NaN</td>\n",
       "      <td>NaN</td>\n",
       "      <td>NaN</td>\n",
       "      <td>NaN</td>\n",
       "      <td>NaN</td>\n",
       "      <td>1.0</td>\n",
       "      <td>NaN</td>\n",
       "    </tr>\n",
       "    <tr>\n",
       "      <th>Sector_Transportation</th>\n",
       "      <td>NaN</td>\n",
       "      <td>NaN</td>\n",
       "      <td>NaN</td>\n",
       "      <td>NaN</td>\n",
       "      <td>NaN</td>\n",
       "      <td>NaN</td>\n",
       "      <td>0.613862</td>\n",
       "      <td>NaN</td>\n",
       "      <td>NaN</td>\n",
       "      <td>NaN</td>\n",
       "      <td>NaN</td>\n",
       "      <td>NaN</td>\n",
       "      <td>NaN</td>\n",
       "      <td>NaN</td>\n",
       "      <td>NaN</td>\n",
       "      <td>NaN</td>\n",
       "      <td>1.000000</td>\n",
       "    </tr>\n",
       "  </tbody>\n",
       "</table>\n",
       "</div>"
      ],
      "text/plain": [
       "                                    Hydroelectric Power  Geothermal Energy  \\\n",
       "Hydroelectric Power                            1.000000                NaN   \n",
       "Geothermal Energy                                   NaN           1.000000   \n",
       "Solar Energy                                        NaN                NaN   \n",
       "Wind Energy                                         NaN           0.505556   \n",
       "Wood Energy                                    0.815689                NaN   \n",
       "Waste Energy                                        NaN           0.542138   \n",
       "Fuel Ethanol, Excluding Denaturant                  NaN                NaN   \n",
       "Biomass Losses and Co-products                      NaN                NaN   \n",
       "Renewable Diesel Fuel                               NaN                NaN   \n",
       "Other Biofuels                                      NaN                NaN   \n",
       "Conventional Hydroelectric Power                    NaN           0.730018   \n",
       "Biodiesel                                           NaN                NaN   \n",
       "Sector_Commercial                                   NaN                NaN   \n",
       "Sector_Electric Power                               NaN           0.751864   \n",
       "Sector_Industrial                              0.879125                NaN   \n",
       "Sector_Residential                                  NaN                NaN   \n",
       "Sector_Transportation                               NaN                NaN   \n",
       "\n",
       "                                    Solar Energy  Wind Energy  Wood Energy  \\\n",
       "Hydroelectric Power                          NaN          NaN     0.815689   \n",
       "Geothermal Energy                            NaN     0.505556          NaN   \n",
       "Solar Energy                            1.000000     0.744309          NaN   \n",
       "Wind Energy                             0.744309     1.000000          NaN   \n",
       "Wood Energy                                  NaN          NaN     1.000000   \n",
       "Waste Energy                                 NaN          NaN          NaN   \n",
       "Fuel Ethanol, Excluding Denaturant           NaN          NaN          NaN   \n",
       "Biomass Losses and Co-products               NaN          NaN     0.538292   \n",
       "Renewable Diesel Fuel                        NaN          NaN          NaN   \n",
       "Other Biofuels                               NaN          NaN          NaN   \n",
       "Conventional Hydroelectric Power             NaN          NaN          NaN   \n",
       "Biodiesel                                    NaN          NaN          NaN   \n",
       "Sector_Commercial                            NaN          NaN          NaN   \n",
       "Sector_Electric Power                        NaN          NaN          NaN   \n",
       "Sector_Industrial                            NaN          NaN     0.905804   \n",
       "Sector_Residential                           NaN          NaN          NaN   \n",
       "Sector_Transportation                        NaN          NaN          NaN   \n",
       "\n",
       "                                    Waste Energy  \\\n",
       "Hydroelectric Power                          NaN   \n",
       "Geothermal Energy                       0.542138   \n",
       "Solar Energy                                 NaN   \n",
       "Wind Energy                                  NaN   \n",
       "Wood Energy                                  NaN   \n",
       "Waste Energy                            1.000000   \n",
       "Fuel Ethanol, Excluding Denaturant           NaN   \n",
       "Biomass Losses and Co-products               NaN   \n",
       "Renewable Diesel Fuel                        NaN   \n",
       "Other Biofuels                               NaN   \n",
       "Conventional Hydroelectric Power        0.518679   \n",
       "Biodiesel                                    NaN   \n",
       "Sector_Commercial                            NaN   \n",
       "Sector_Electric Power                   0.524789   \n",
       "Sector_Industrial                            NaN   \n",
       "Sector_Residential                           NaN   \n",
       "Sector_Transportation                        NaN   \n",
       "\n",
       "                                    Fuel Ethanol, Excluding Denaturant  \\\n",
       "Hydroelectric Power                                                NaN   \n",
       "Geothermal Energy                                                  NaN   \n",
       "Solar Energy                                                       NaN   \n",
       "Wind Energy                                                        NaN   \n",
       "Wood Energy                                                        NaN   \n",
       "Waste Energy                                                       NaN   \n",
       "Fuel Ethanol, Excluding Denaturant                            1.000000   \n",
       "Biomass Losses and Co-products                                     NaN   \n",
       "Renewable Diesel Fuel                                         0.628210   \n",
       "Other Biofuels                                                     NaN   \n",
       "Conventional Hydroelectric Power                                   NaN   \n",
       "Biodiesel                                                     0.912225   \n",
       "Sector_Commercial                                                  NaN   \n",
       "Sector_Electric Power                                              NaN   \n",
       "Sector_Industrial                                                  NaN   \n",
       "Sector_Residential                                                 NaN   \n",
       "Sector_Transportation                                         0.613862   \n",
       "\n",
       "                                    Biomass Losses and Co-products  \\\n",
       "Hydroelectric Power                                            NaN   \n",
       "Geothermal Energy                                              NaN   \n",
       "Solar Energy                                                   NaN   \n",
       "Wind Energy                                                    NaN   \n",
       "Wood Energy                                               0.538292   \n",
       "Waste Energy                                                   NaN   \n",
       "Fuel Ethanol, Excluding Denaturant                             NaN   \n",
       "Biomass Losses and Co-products                            1.000000   \n",
       "Renewable Diesel Fuel                                          NaN   \n",
       "Other Biofuels                                                 NaN   \n",
       "Conventional Hydroelectric Power                               NaN   \n",
       "Biodiesel                                                      NaN   \n",
       "Sector_Commercial                                              NaN   \n",
       "Sector_Electric Power                                          NaN   \n",
       "Sector_Industrial                                         0.619867   \n",
       "Sector_Residential                                             NaN   \n",
       "Sector_Transportation                                          NaN   \n",
       "\n",
       "                                    Renewable Diesel Fuel  Other Biofuels  \\\n",
       "Hydroelectric Power                                   NaN             NaN   \n",
       "Geothermal Energy                                     NaN             NaN   \n",
       "Solar Energy                                          NaN             NaN   \n",
       "Wind Energy                                           NaN             NaN   \n",
       "Wood Energy                                           NaN             NaN   \n",
       "Waste Energy                                          NaN             NaN   \n",
       "Fuel Ethanol, Excluding Denaturant               0.628210             NaN   \n",
       "Biomass Losses and Co-products                        NaN             NaN   \n",
       "Renewable Diesel Fuel                            1.000000        0.943786   \n",
       "Other Biofuels                                   0.943786        1.000000   \n",
       "Conventional Hydroelectric Power                      NaN             NaN   \n",
       "Biodiesel                                        0.736192        0.573188   \n",
       "Sector_Commercial                                     NaN             NaN   \n",
       "Sector_Electric Power                                 NaN             NaN   \n",
       "Sector_Industrial                                     NaN             NaN   \n",
       "Sector_Residential                                    NaN             NaN   \n",
       "Sector_Transportation                                 NaN             NaN   \n",
       "\n",
       "                                    Conventional Hydroelectric Power  \\\n",
       "Hydroelectric Power                                              NaN   \n",
       "Geothermal Energy                                           0.730018   \n",
       "Solar Energy                                                     NaN   \n",
       "Wind Energy                                                      NaN   \n",
       "Wood Energy                                                      NaN   \n",
       "Waste Energy                                                0.518679   \n",
       "Fuel Ethanol, Excluding Denaturant                               NaN   \n",
       "Biomass Losses and Co-products                                   NaN   \n",
       "Renewable Diesel Fuel                                            NaN   \n",
       "Other Biofuels                                                   NaN   \n",
       "Conventional Hydroelectric Power                            1.000000   \n",
       "Biodiesel                                                        NaN   \n",
       "Sector_Commercial                                                NaN   \n",
       "Sector_Electric Power                                       0.980887   \n",
       "Sector_Industrial                                                NaN   \n",
       "Sector_Residential                                               NaN   \n",
       "Sector_Transportation                                            NaN   \n",
       "\n",
       "                                    Biodiesel  Sector_Commercial  \\\n",
       "Hydroelectric Power                       NaN                NaN   \n",
       "Geothermal Energy                         NaN                NaN   \n",
       "Solar Energy                              NaN                NaN   \n",
       "Wind Energy                               NaN                NaN   \n",
       "Wood Energy                               NaN                NaN   \n",
       "Waste Energy                              NaN                NaN   \n",
       "Fuel Ethanol, Excluding Denaturant   0.912225                NaN   \n",
       "Biomass Losses and Co-products            NaN                NaN   \n",
       "Renewable Diesel Fuel                0.736192                NaN   \n",
       "Other Biofuels                       0.573188                NaN   \n",
       "Conventional Hydroelectric Power          NaN                NaN   \n",
       "Biodiesel                            1.000000                NaN   \n",
       "Sector_Commercial                         NaN                1.0   \n",
       "Sector_Electric Power                     NaN                NaN   \n",
       "Sector_Industrial                         NaN                NaN   \n",
       "Sector_Residential                        NaN                NaN   \n",
       "Sector_Transportation                     NaN                NaN   \n",
       "\n",
       "                                    Sector_Electric Power  Sector_Industrial  \\\n",
       "Hydroelectric Power                                   NaN           0.879125   \n",
       "Geothermal Energy                                0.751864                NaN   \n",
       "Solar Energy                                          NaN                NaN   \n",
       "Wind Energy                                           NaN                NaN   \n",
       "Wood Energy                                           NaN           0.905804   \n",
       "Waste Energy                                     0.524789                NaN   \n",
       "Fuel Ethanol, Excluding Denaturant                    NaN                NaN   \n",
       "Biomass Losses and Co-products                        NaN           0.619867   \n",
       "Renewable Diesel Fuel                                 NaN                NaN   \n",
       "Other Biofuels                                        NaN                NaN   \n",
       "Conventional Hydroelectric Power                 0.980887                NaN   \n",
       "Biodiesel                                             NaN                NaN   \n",
       "Sector_Commercial                                     NaN                NaN   \n",
       "Sector_Electric Power                            1.000000                NaN   \n",
       "Sector_Industrial                                     NaN           1.000000   \n",
       "Sector_Residential                                    NaN                NaN   \n",
       "Sector_Transportation                                 NaN                NaN   \n",
       "\n",
       "                                    Sector_Residential  Sector_Transportation  \n",
       "Hydroelectric Power                                NaN                    NaN  \n",
       "Geothermal Energy                                  NaN                    NaN  \n",
       "Solar Energy                                       NaN                    NaN  \n",
       "Wind Energy                                        NaN                    NaN  \n",
       "Wood Energy                                        NaN                    NaN  \n",
       "Waste Energy                                       NaN                    NaN  \n",
       "Fuel Ethanol, Excluding Denaturant                 NaN               0.613862  \n",
       "Biomass Losses and Co-products                     NaN                    NaN  \n",
       "Renewable Diesel Fuel                              NaN                    NaN  \n",
       "Other Biofuels                                     NaN                    NaN  \n",
       "Conventional Hydroelectric Power                   NaN                    NaN  \n",
       "Biodiesel                                          NaN                    NaN  \n",
       "Sector_Commercial                                  NaN                    NaN  \n",
       "Sector_Electric Power                              NaN                    NaN  \n",
       "Sector_Industrial                                  NaN                    NaN  \n",
       "Sector_Residential                                 1.0                    NaN  \n",
       "Sector_Transportation                              NaN               1.000000  "
      ]
     },
     "execution_count": 22,
     "metadata": {},
     "output_type": "execute_result"
    }
   ],
   "source": [
    "correlation_matrix_filtered = correlation_matrix[(correlation_matrix > 0.5) | (correlation_matrix < -0.5)]\n",
    "correlation_matrix_filtered"
   ]
  },
  {
   "cell_type": "code",
   "execution_count": 23,
   "metadata": {},
   "outputs": [
    {
     "data": {
      "text/plain": [
       "<Figure size 2000x1000 with 0 Axes>"
      ]
     },
     "execution_count": 23,
     "metadata": {},
     "output_type": "execute_result"
    },
    {
     "data": {
      "image/png": "[encoded data removed]",
      "text/plain": [
       "<Figure size 640x480 with 2 Axes>"
      ]
     },
     "metadata": {},
     "output_type": "display_data"
    },
    {
     "data": {
      "text/plain": [
       "<Figure size 2000x1000 with 0 Axes>"
      ]
     },
     "metadata": {},
     "output_type": "display_data"
    }
   ],
   "source": [
    "heatmap = sns.heatmap(correlation_matrix_filtered, annot=True, fmt='.2f',\n",
    "                      cmap='rocket', annot_kws={'size': 5}, cbar_kws={'shrink': 0.8})\n",
    "heatmap.set_xticklabels(heatmap.get_xticklabels(), fontsize=6)\n",
    "heatmap.set_yticklabels(heatmap.get_yticklabels(), fontsize=6)\n",
    "plt.figure(figsize=(20,10))"
   ]
  },
  {
   "cell_type": "markdown",
   "metadata": {},
   "source": [
    "Berdasarkan gambar di atas, dapat diketahui bahwa ada cukup banyak variabel yang berkorelasi antar satu dan lainnya. Korelasi tersebut ternyata bukan hanya terjadi antara sektor dan sumber energi, tapi juga antar sumber energi yang ada."
   ]
  },
  {
   "cell_type": "markdown",
   "metadata": {},
   "source": [
    "**Korelasi Antara Sektor dan Sumber Energi**\n",
    "\n",
    "- Sektor komersial **tidak memiliki keterkaitan** apapun dengan sumber energi yang ada. Hal ini menandakan sektor komersial memiliki **sumber energi maupun variabel lain** yang dapat **mempengaruhi pertumbuhannya** secara langsung.\n",
    "\n",
    "- Sektor Pembangkit listrik memiliki keterkaitan yang erat dengan **energi panas bumi, energi limbah, dan pembangkit listrik tenaga air konvensional**. Hal ini menandakan bahwa **ketiga sumber energi** tersebut **berpengaruh besar** dalam menggerakkan sektor pembangkit listrik dari tahun ke tahun, dan begitu pula sebaliknya.\n",
    "\n",
    "- Sektor industri memiliki keterkaitan yang kuat dengan **pembangkit listrik tenaga air, energi kayu, dan energi biomassa serta produk turunannya**. Hal ini menandakan bahwa **ketiga energi** tersebut **berpengaruh besar** terhadap **pertumbuhan** dari **sektor industri** setiap tahunnya.\n",
    "\n",
    "- Sektor perumahan **tidak memiliki keterkaitan** apapun dengan sumber energi yang ada. Sama halnya dengan sektor komersial, kemungkinan yang dapat terjadi adalah **pertumbuhan sektor perumahan dipengaruhi oleh variabel lainnya**.\n",
    "\n",
    "- Sektor **transportasi** memiliki **keterkaitan erat** dengan sumber energi yang berasal dari **bahan bakar ethanol**. Tak sama seperti sektor lainnya, **sektor transportasi** hanya dipengaruhi oleh bahan bakar ethanol sebagai sumber **energi paling primadona** di setiap tahunnya."
   ]
  },
  {
   "cell_type": "markdown",
   "metadata": {},
   "source": [
    "**Korelasi Antar Sumber Energi yang Digunakan**\n",
    "\n",
    "- Pembangkit listrik tenaga air memiliki keterkaitan erat dengan energi kayu secara positif. Hal ini menandakan bahwa setiap bertambahnya energi pembangkit listrik tenaga air, semakin bertambah pula energi yang bersumber dari kayu, dan begitu pula sebaliknya.\n",
    "\n",
    "- Energi panas bumi memiliki korelasi positif yang kuat terhadap tiga sumber energi lainnya yaitu energi angin, energi limbah/sampah, dan pembangkit listrik tenaga air konvensional. Hal ini menandakan bahwa semakin bertambahnya energi panas bumi, semakin bertambah pula energi yang bersumber dari angin, limbah, serta plta konvensional dan begitu pula sebaliknya.\n",
    "\n",
    "- Energi surya memiliki korelasi kuat secara positif terhadap sumber energi lainnya yaitu energi angin. Hal ini menandakan bahwa setiap bertambahnya energi surya, semakin bertambah pula energi yang bersumber dari angin dan begitu pula sebaliknya.\n",
    "\n",
    "- Selain pembangkit listrik tenaga air, energi kayu juga berkolerasi secara positif dengan sisa energi biomassa dan produk turunannya. Hal ini menandakan bahwa setiap bertambahnya energi kayu, maka akan bertambah pula sisa energi dari biomassa dan produk turunannya, begitu pula sebaliknya. Hal ini wajar saja terjadi mengingat energi kayu merupakan salah satu energi biomassa.\n",
    "\n",
    "- Energi yang bersumber dari limbah/sampah berkolerasi kuat dan positif dengan energi yang bersumber dari pembangkit listrik tenaga air konvensional serta energi panas bumi. Hal ini menandakan bahwa setiap bertambahnya konsumsi akan energi limbah, maka konsumsi akan energi plta konvensional dan panas bumi juga akan meningkat.\n",
    "\n",
    "- Bahan bakar etanol berkorelasi secara positif dan erat dengan bahan bakar diesel terbarukan serta biodiesel. Hal ini menandakan bahwa setiap pertumbuhan dari konsumsi bahan bakar etanol, maka akan mempengaruhi pertumbuhan dari bahan bakar diesel terbarukan dan biodiesel.\n",
    "\n",
    "- Sisa energi biomassa dan produk turunannya memiliki korelasi kuat dan positif terhadap energi kayu. Hal ini menandakan bahwa semakin besar penggunaan dari energi kayu, maka semakin besar pula sisa energi biomassa yang dihasilkan, karena kayu merupakan salah satu energi yang termasuk biomassa.\n",
    "\n",
    "- Bahan bakar diesel terbarukan memiliki korelasi kuat dan positif terhadap bahan bakar ethanol, energi biofuel lainnya, dan biodiesel. Hal ini menandakan bahwa setiap bertambahnya bahan bakar diesel terbarukan, ketiga energi yang berkorelasi kuat dengannya akan ikut bertambah, dan begitu pula sebaliknya.\n",
    "\n",
    "- Energi biofuel lainnya memiliki korelasi kuat dan positif terhadap bahan bakar diesel terbarukan dan biodiesel. Hal ini menandakan bahwa semakin bertambahnya penggunaan dari energi biofuel, maka penggunaan dari bahan bakar diesel terbarukan dan biodiesel juga akan semakin meningkat.\n",
    "\n",
    "- Pembangkit listrik tenaga air konvensional berkorelasi secara erat dan positif terhadap energi panas bumi dan energi limbah. Hal ini menandakan bahwa setiap peningkatan yang terjadi pada pembangkit listrik tenaga air konvensional, maka akan mempengaruhi peningkatan dari energi panas bumi dan energi limbah itu sendiri.\n",
    "\n",
    "- Energi biodiesel memiliki korelasi erat dan positif terhadap bahan bakar ethanol, bahan bakar diesel terbarukan, dan energi biofuel lainnya. Hal ini menandakan bahwa setiap peningkatan pada sumber energi biodiesel, maka ketiga energi tersebut otomatis juga akan mengalami peningkatan."
   ]
  },
  {
   "cell_type": "markdown",
   "metadata": {},
   "source": [
    "### **4. Sumber energi apa yang paling banyak digunakan berdasarkan sektor?**"
   ]
  },
  {
   "cell_type": "code",
   "execution_count": 24,
   "metadata": {},
   "outputs": [
    {
     "data": {
      "text/html": [
       "<div>\n",
       "<style scoped>\n",
       "    .dataframe tbody tr th:only-of-type {\n",
       "        vertical-align: middle;\n",
       "    }\n",
       "\n",
       "    .dataframe tbody tr th {\n",
       "        vertical-align: top;\n",
       "    }\n",
       "\n",
       "    .dataframe thead th {\n",
       "        text-align: right;\n",
       "    }\n",
       "</style>\n",
       "<table border=\"1\" class=\"dataframe\">\n",
       "  <thead>\n",
       "    <tr style=\"text-align: right;\">\n",
       "      <th></th>\n",
       "      <th>Sector</th>\n",
       "      <th>Hydroelectric Power</th>\n",
       "      <th>Geothermal Energy</th>\n",
       "      <th>Solar Energy</th>\n",
       "      <th>Wind Energy</th>\n",
       "      <th>Wood Energy</th>\n",
       "      <th>Waste Energy</th>\n",
       "      <th>Fuel Ethanol, Excluding Denaturant</th>\n",
       "      <th>Biomass Losses and Co-products</th>\n",
       "      <th>Renewable Diesel Fuel</th>\n",
       "      <th>Other Biofuels</th>\n",
       "      <th>Conventional Hydroelectric Power</th>\n",
       "      <th>Biodiesel</th>\n",
       "    </tr>\n",
       "  </thead>\n",
       "  <tbody>\n",
       "    <tr>\n",
       "      <th>0</th>\n",
       "      <td>Commercial</td>\n",
       "      <td>13.409</td>\n",
       "      <td>450.646</td>\n",
       "      <td>446.318</td>\n",
       "      <td>5.802</td>\n",
       "      <td>2868.583</td>\n",
       "      <td>1444.467</td>\n",
       "      <td>279.609</td>\n",
       "      <td>0.000</td>\n",
       "      <td>0.000</td>\n",
       "      <td>0.000</td>\n",
       "      <td>0.000</td>\n",
       "      <td>0.000</td>\n",
       "    </tr>\n",
       "    <tr>\n",
       "      <th>1</th>\n",
       "      <td>Electric Power</td>\n",
       "      <td>0.000</td>\n",
       "      <td>2132.048</td>\n",
       "      <td>2765.146</td>\n",
       "      <td>13114.608</td>\n",
       "      <td>6083.807</td>\n",
       "      <td>8873.151</td>\n",
       "      <td>0.000</td>\n",
       "      <td>0.000</td>\n",
       "      <td>0.000</td>\n",
       "      <td>0.000</td>\n",
       "      <td>48296.351</td>\n",
       "      <td>0.000</td>\n",
       "    </tr>\n",
       "    <tr>\n",
       "      <th>2</th>\n",
       "      <td>Industrial</td>\n",
       "      <td>506.902</td>\n",
       "      <td>132.217</td>\n",
       "      <td>111.765</td>\n",
       "      <td>5.159</td>\n",
       "      <td>74538.427</td>\n",
       "      <td>7521.062</td>\n",
       "      <td>339.035</td>\n",
       "      <td>14818.375</td>\n",
       "      <td>0.000</td>\n",
       "      <td>0.000</td>\n",
       "      <td>0.000</td>\n",
       "      <td>0.000</td>\n",
       "    </tr>\n",
       "    <tr>\n",
       "      <th>3</th>\n",
       "      <td>Residential</td>\n",
       "      <td>0.000</td>\n",
       "      <td>798.711</td>\n",
       "      <td>2852.771</td>\n",
       "      <td>0.000</td>\n",
       "      <td>28824.295</td>\n",
       "      <td>0.000</td>\n",
       "      <td>0.000</td>\n",
       "      <td>0.000</td>\n",
       "      <td>0.000</td>\n",
       "      <td>0.000</td>\n",
       "      <td>0.000</td>\n",
       "      <td>0.000</td>\n",
       "    </tr>\n",
       "    <tr>\n",
       "      <th>4</th>\n",
       "      <td>Transportation</td>\n",
       "      <td>0.000</td>\n",
       "      <td>0.000</td>\n",
       "      <td>0.000</td>\n",
       "      <td>0.000</td>\n",
       "      <td>0.000</td>\n",
       "      <td>0.000</td>\n",
       "      <td>20764.782</td>\n",
       "      <td>0.000</td>\n",
       "      <td>1314.728</td>\n",
       "      <td>97.321</td>\n",
       "      <td>0.000</td>\n",
       "      <td>2923.152</td>\n",
       "    </tr>\n",
       "  </tbody>\n",
       "</table>\n",
       "</div>"
      ],
      "text/plain": [
       "           Sector  Hydroelectric Power  Geothermal Energy  Solar Energy  \\\n",
       "0      Commercial               13.409            450.646       446.318   \n",
       "1  Electric Power                0.000           2132.048      2765.146   \n",
       "2      Industrial              506.902            132.217       111.765   \n",
       "3     Residential                0.000            798.711      2852.771   \n",
       "4  Transportation                0.000              0.000         0.000   \n",
       "\n",
       "   Wind Energy  Wood Energy  Waste Energy  Fuel Ethanol, Excluding Denaturant  \\\n",
       "0        5.802     2868.583      1444.467                             279.609   \n",
       "1    13114.608     6083.807      8873.151                               0.000   \n",
       "2        5.159    74538.427      7521.062                             339.035   \n",
       "3        0.000    28824.295         0.000                               0.000   \n",
       "4        0.000        0.000         0.000                           20764.782   \n",
       "\n",
       "   Biomass Losses and Co-products  Renewable Diesel Fuel  Other Biofuels  \\\n",
       "0                           0.000                  0.000           0.000   \n",
       "1                           0.000                  0.000           0.000   \n",
       "2                       14818.375                  0.000           0.000   \n",
       "3                           0.000                  0.000           0.000   \n",
       "4                           0.000               1314.728          97.321   \n",
       "\n",
       "   Conventional Hydroelectric Power  Biodiesel  \n",
       "0                             0.000      0.000  \n",
       "1                         48296.351      0.000  \n",
       "2                             0.000      0.000  \n",
       "3                             0.000      0.000  \n",
       "4                             0.000   2923.152  "
      ]
     },
     "execution_count": 24,
     "metadata": {},
     "output_type": "execute_result"
    }
   ],
   "source": [
    "energy_sector_cons = energy_by_sector.drop(columns=['Biomass Energy','Total Renewable Energy'])\n",
    "energy_sector_cons"
   ]
  },
  {
   "cell_type": "code",
   "execution_count": 25,
   "metadata": {},
   "outputs": [
    {
     "name": "stderr",
     "output_type": "stream",
     "text": [
      "c:\\Users\\unknown\\.pyenv\\pyenv-win\\versions\\3.12.1\\Lib\\site-packages\\plotly\\express\\_core.py:2065: FutureWarning: When grouping with a length-1 list-like, you will need to pass a length-1 tuple to get_group in a future version of pandas. Pass `(name,)` instead of `name` to silence this warning.\n",
      "  sf: grouped.get_group(s if len(s) > 1 else s[0])\n"
     ]
    },
    {
     "data": {
      "application/vnd.plotly.v1+json": {
       "config": {
        "plotlyServerURL": "https://plot.ly"
       },
       "data": [
        {
         "alignmentgroup": "True",
         "hovertemplate": "Energy Type=Hydroelectric Power<br>Sector=%{x}<br>Energy Consume (Triliun BTU)=%{y}<extra></extra>",
         "legendgroup": "Hydroelectric Power",
         "marker": {
          "color": "#636efa",
          "pattern": {
           "shape": ""
          }
         },
         "name": "Hydroelectric Power",
         "offsetgroup": "Hydroelectric Power",
         "orientation": "v",
         "showlegend": true,
         "textposition": "auto",
         "type": "bar",
         "x": [
          "Commercial",
          "Electric Power",
          "Industrial",
          "Residential",
          "Transportation"
         ],
         "xaxis": "x",
         "y": [
          13.409,
          0,
          506.902,
          0,
          0
         ],
         "yaxis": "y"
        },
        {
         "alignmentgroup": "True",
         "hovertemplate": "Energy Type=Geothermal Energy<br>Sector=%{x}<br>Energy Consume (Triliun BTU)=%{y}<extra></extra>",
         "legendgroup": "Geothermal Energy",
         "marker": {
          "color": "#EF553B",
          "pattern": {
           "shape": ""
          }
         },
         "name": "Geothermal Energy",
         "offsetgroup": "Geothermal Energy",
         "orientation": "v",
         "showlegend": true,
         "textposition": "auto",
         "type": "bar",
         "x": [
          "Commercial",
          "Electric Power",
          "Industrial",
          "Residential",
          "Transportation"
         ],
         "xaxis": "x",
         "y": [
          450.646,
          2132.048,
          132.21699999999998,
          798.711,
          0
         ],
         "yaxis": "y"
        },
        {
         "alignmentgroup": "True",
         "hovertemplate": "Energy Type=Solar Energy<br>Sector=%{x}<br>Energy Consume (Triliun BTU)=%{y}<extra></extra>",
         "legendgroup": "Solar Energy",
         "marker": {
          "color": "#00cc96",
          "pattern": {
           "shape": ""
          }
         },
         "name": "Solar Energy",
         "offsetgroup": "Solar Energy",
         "orientation": "v",
         "showlegend": true,
         "textposition": "auto",
         "type": "bar",
         "x": [
          "Commercial",
          "Electric Power",
          "Industrial",
          "Residential",
          "Transportation"
         ],
         "xaxis": "x",
         "y": [
          446.318,
          2765.146,
          111.765,
          2852.771,
          0
         ],
         "yaxis": "y"
        },
        {
         "alignmentgroup": "True",
         "hovertemplate": "Energy Type=Wind Energy<br>Sector=%{x}<br>Energy Consume (Triliun BTU)=%{y}<extra></extra>",
         "legendgroup": "Wind Energy",
         "marker": {
          "color": "#ab63fa",
          "pattern": {
           "shape": ""
          }
         },
         "name": "Wind Energy",
         "offsetgroup": "Wind Energy",
         "orientation": "v",
         "showlegend": true,
         "textposition": "auto",
         "type": "bar",
         "x": [
          "Commercial",
          "Electric Power",
          "Industrial",
          "Residential",
          "Transportation"
         ],
         "xaxis": "x",
         "y": [
          5.802,
          13114.608,
          5.159,
          0,
          0
         ],
         "yaxis": "y"
        },
        {
         "alignmentgroup": "True",
         "hovertemplate": "Energy Type=Wood Energy<br>Sector=%{x}<br>Energy Consume (Triliun BTU)=%{y}<extra></extra>",
         "legendgroup": "Wood Energy",
         "marker": {
          "color": "#FFA15A",
          "pattern": {
           "shape": ""
          }
         },
         "name": "Wood Energy",
         "offsetgroup": "Wood Energy",
         "orientation": "v",
         "showlegend": true,
         "textposition": "auto",
         "type": "bar",
         "x": [
          "Commercial",
          "Electric Power",
          "Industrial",
          "Residential",
          "Transportation"
         ],
         "xaxis": "x",
         "y": [
          2868.583,
          6083.807,
          74538.427,
          28824.295000000002,
          0
         ],
         "yaxis": "y"
        },
        {
         "alignmentgroup": "True",
         "hovertemplate": "Energy Type=Waste Energy<br>Sector=%{x}<br>Energy Consume (Triliun BTU)=%{y}<extra></extra>",
         "legendgroup": "Waste Energy",
         "marker": {
          "color": "#19d3f3",
          "pattern": {
           "shape": ""
          }
         },
         "name": "Waste Energy",
         "offsetgroup": "Waste Energy",
         "orientation": "v",
         "showlegend": true,
         "textposition": "auto",
         "type": "bar",
         "x": [
          "Commercial",
          "Electric Power",
          "Industrial",
          "Residential",
          "Transportation"
         ],
         "xaxis": "x",
         "y": [
          1444.467,
          8873.151,
          7521.062,
          0,
          0
         ],
         "yaxis": "y"
        },
        {
         "alignmentgroup": "True",
         "hovertemplate": "Energy Type=Fuel Ethanol, Excluding Denaturant<br>Sector=%{x}<br>Energy Consume (Triliun BTU)=%{y}<extra></extra>",
         "legendgroup": "Fuel Ethanol, Excluding Denaturant",
         "marker": {
          "color": "#FF6692",
          "pattern": {
           "shape": ""
          }
         },
         "name": "Fuel Ethanol, Excluding Denaturant",
         "offsetgroup": "Fuel Ethanol, Excluding Denaturant",
         "orientation": "v",
         "showlegend": true,
         "textposition": "auto",
         "type": "bar",
         "x": [
          "Commercial",
          "Electric Power",
          "Industrial",
          "Residential",
          "Transportation"
         ],
         "xaxis": "x",
         "y": [
          279.609,
          0,
          339.035,
          0,
          20764.782
         ],
         "yaxis": "y"
        },
        {
         "alignmentgroup": "True",
         "hovertemplate": "Energy Type=Biomass Losses and Co-products<br>Sector=%{x}<br>Energy Consume (Triliun BTU)=%{y}<extra></extra>",
         "legendgroup": "Biomass Losses and Co-products",
         "marker": {
          "color": "#B6E880",
          "pattern": {
           "shape": ""
          }
         },
         "name": "Biomass Losses and Co-products",
         "offsetgroup": "Biomass Losses and Co-products",
         "orientation": "v",
         "showlegend": true,
         "textposition": "auto",
         "type": "bar",
         "x": [
          "Commercial",
          "Electric Power",
          "Industrial",
          "Residential",
          "Transportation"
         ],
         "xaxis": "x",
         "y": [
          0,
          0,
          14818.375,
          0,
          0
         ],
         "yaxis": "y"
        },
        {
         "alignmentgroup": "True",
         "hovertemplate": "Energy Type=Renewable Diesel Fuel<br>Sector=%{x}<br>Energy Consume (Triliun BTU)=%{y}<extra></extra>",
         "legendgroup": "Renewable Diesel Fuel",
         "marker": {
          "color": "#FF97FF",
          "pattern": {
           "shape": ""
          }
         },
         "name": "Renewable Diesel Fuel",
         "offsetgroup": "Renewable Diesel Fuel",
         "orientation": "v",
         "showlegend": true,
         "textposition": "auto",
         "type": "bar",
         "x": [
          "Commercial",
          "Electric Power",
          "Industrial",
          "Residential",
          "Transportation"
         ],
         "xaxis": "x",
         "y": [
          0,
          0,
          0,
          0,
          1314.728
         ],
         "yaxis": "y"
        },
        {
         "alignmentgroup": "True",
         "hovertemplate": "Energy Type=Other Biofuels<br>Sector=%{x}<br>Energy Consume (Triliun BTU)=%{y}<extra></extra>",
         "legendgroup": "Other Biofuels",
         "marker": {
          "color": "#FECB52",
          "pattern": {
           "shape": ""
          }
         },
         "name": "Other Biofuels",
         "offsetgroup": "Other Biofuels",
         "orientation": "v",
         "showlegend": true,
         "textposition": "auto",
         "type": "bar",
         "x": [
          "Commercial",
          "Electric Power",
          "Industrial",
          "Residential",
          "Transportation"
         ],
         "xaxis": "x",
         "y": [
          0,
          0,
          0,
          0,
          97.321
         ],
         "yaxis": "y"
        },
        {
         "alignmentgroup": "True",
         "hovertemplate": "Energy Type=Conventional Hydroelectric Power<br>Sector=%{x}<br>Energy Consume (Triliun BTU)=%{y}<extra></extra>",
         "legendgroup": "Conventional Hydroelectric Power",
         "marker": {
          "color": "#636efa",
          "pattern": {
           "shape": ""
          }
         },
         "name": "Conventional Hydroelectric Power",
         "offsetgroup": "Conventional Hydroelectric Power",
         "orientation": "v",
         "showlegend": true,
         "textposition": "auto",
         "type": "bar",
         "x": [
          "Commercial",
          "Electric Power",
          "Industrial",
          "Residential",
          "Transportation"
         ],
         "xaxis": "x",
         "y": [
          0,
          48296.351,
          0,
          0,
          0
         ],
         "yaxis": "y"
        },
        {
         "alignmentgroup": "True",
         "hovertemplate": "Energy Type=Biodiesel<br>Sector=%{x}<br>Energy Consume (Triliun BTU)=%{y}<extra></extra>",
         "legendgroup": "Biodiesel",
         "marker": {
          "color": "#EF553B",
          "pattern": {
           "shape": ""
          }
         },
         "name": "Biodiesel",
         "offsetgroup": "Biodiesel",
         "orientation": "v",
         "showlegend": true,
         "textposition": "auto",
         "type": "bar",
         "x": [
          "Commercial",
          "Electric Power",
          "Industrial",
          "Residential",
          "Transportation"
         ],
         "xaxis": "x",
         "y": [
          0,
          0,
          0,
          0,
          2923.152
         ],
         "yaxis": "y"
        }
       ],
       "layout": {
        "barmode": "relative",
        "legend": {
         "title": {
          "text": "Energy Type"
         },
         "tracegroupgap": 0
        },
        "margin": {
         "t": 60
        },
        "template": {
         "data": {
          "bar": [
           {
            "error_x": {
             "color": "#2a3f5f"
            },
            "error_y": {
             "color": "#2a3f5f"
            },
            "marker": {
             "line": {
              "color": "#E5ECF6",
              "width": 0.5
             },
             "pattern": {
              "fillmode": "overlay",
              "size": 10,
              "solidity": 0.2
             }
            },
            "type": "bar"
           }
          ],
          "barpolar": [
           {
            "marker": {
             "line": {
              "color": "#E5ECF6",
              "width": 0.5
             },
             "pattern": {
              "fillmode": "overlay",
              "size": 10,
              "solidity": 0.2
             }
            },
            "type": "barpolar"
           }
          ],
          "carpet": [
           {
            "aaxis": {
             "endlinecolor": "#2a3f5f",
             "gridcolor": "white",
             "linecolor": "white",
             "minorgridcolor": "white",
             "startlinecolor": "#2a3f5f"
            },
            "baxis": {
             "endlinecolor": "#2a3f5f",
             "gridcolor": "white",
             "linecolor": "white",
             "minorgridcolor": "white",
             "startlinecolor": "#2a3f5f"
            },
            "type": "carpet"
           }
          ],
          "choropleth": [
           {
            "colorbar": {
             "outlinewidth": 0,
             "ticks": ""
            },
            "type": "choropleth"
           }
          ],
          "contour": [
           {
            "colorbar": {
             "outlinewidth": 0,
             "ticks": ""
            },
            "colorscale": [
             [
              0,
              "#0d0887"
             ],
             [
              0.1111111111111111,
              "#46039f"
             ],
             [
              0.2222222222222222,
              "#7201a8"
             ],
             [
              0.3333333333333333,
              "#9c179e"
             ],
             [
              0.4444444444444444,
              "#bd3786"
             ],
             [
              0.5555555555555556,
              "#d8576b"
             ],
             [
              0.6666666666666666,
              "#ed7953"
             ],
             [
              0.7777777777777778,
              "#fb9f3a"
             ],
             [
              0.8888888888888888,
              "#fdca26"
             ],
             [
              1,
              "#f0f921"
             ]
            ],
            "type": "contour"
           }
          ],
          "contourcarpet": [
           {
            "colorbar": {
             "outlinewidth": 0,
             "ticks": ""
            },
            "type": "contourcarpet"
           }
          ],
          "heatmap": [
           {
            "colorbar": {
             "outlinewidth": 0,
             "ticks": ""
            },
            "colorscale": [
             [
              0,
              "#0d0887"
             ],
             [
              0.1111111111111111,
              "#46039f"
             ],
             [
              0.2222222222222222,
              "#7201a8"
             ],
             [
              0.3333333333333333,
              "#9c179e"
             ],
             [
              0.4444444444444444,
              "#bd3786"
             ],
             [
              0.5555555555555556,
              "#d8576b"
             ],
             [
              0.6666666666666666,
              "#ed7953"
             ],
             [
              0.7777777777777778,
              "#fb9f3a"
             ],
             [
              0.8888888888888888,
              "#fdca26"
             ],
             [
              1,
              "#f0f921"
             ]
            ],
            "type": "heatmap"
           }
          ],
          "heatmapgl": [
           {
            "colorbar": {
             "outlinewidth": 0,
             "ticks": ""
            },
            "colorscale": [
             [
              0,
              "#0d0887"
             ],
             [
              0.1111111111111111,
              "#46039f"
             ],
             [
              0.2222222222222222,
              "#7201a8"
             ],
             [
              0.3333333333333333,
              "#9c179e"
             ],
             [
              0.4444444444444444,
              "#bd3786"
             ],
             [
              0.5555555555555556,
              "#d8576b"
             ],
             [
              0.6666666666666666,
              "#ed7953"
             ],
             [
              0.7777777777777778,
              "#fb9f3a"
             ],
             [
              0.8888888888888888,
              "#fdca26"
             ],
             [
              1,
              "#f0f921"
             ]
            ],
            "type": "heatmapgl"
           }
          ],
          "histogram": [
           {
            "marker": {
             "pattern": {
              "fillmode": "overlay",
              "size": 10,
              "solidity": 0.2
             }
            },
            "type": "histogram"
           }
          ],
          "histogram2d": [
           {
            "colorbar": {
             "outlinewidth": 0,
             "ticks": ""
            },
            "colorscale": [
             [
              0,
              "#0d0887"
             ],
             [
              0.1111111111111111,
              "#46039f"
             ],
             [
              0.2222222222222222,
              "#7201a8"
             ],
             [
              0.3333333333333333,
              "#9c179e"
             ],
             [
              0.4444444444444444,
              "#bd3786"
             ],
             [
              0.5555555555555556,
              "#d8576b"
             ],
             [
              0.6666666666666666,
              "#ed7953"
             ],
             [
              0.7777777777777778,
              "#fb9f3a"
             ],
             [
              0.8888888888888888,
              "#fdca26"
             ],
             [
              1,
              "#f0f921"
             ]
            ],
            "type": "histogram2d"
           }
          ],
          "histogram2dcontour": [
           {
            "colorbar": {
             "outlinewidth": 0,
             "ticks": ""
            },
            "colorscale": [
             [
              0,
              "#0d0887"
             ],
             [
              0.1111111111111111,
              "#46039f"
             ],
             [
              0.2222222222222222,
              "#7201a8"
             ],
             [
              0.3333333333333333,
              "#9c179e"
             ],
             [
              0.4444444444444444,
              "#bd3786"
             ],
             [
              0.5555555555555556,
              "#d8576b"
             ],
             [
              0.6666666666666666,
              "#ed7953"
             ],
             [
              0.7777777777777778,
              "#fb9f3a"
             ],
             [
              0.8888888888888888,
              "#fdca26"
             ],
             [
              1,
              "#f0f921"
             ]
            ],
            "type": "histogram2dcontour"
           }
          ],
          "mesh3d": [
           {
            "colorbar": {
             "outlinewidth": 0,
             "ticks": ""
            },
            "type": "mesh3d"
           }
          ],
          "parcoords": [
           {
            "line": {
             "colorbar": {
              "outlinewidth": 0,
              "ticks": ""
             }
            },
            "type": "parcoords"
           }
          ],
          "pie": [
           {
            "automargin": true,
            "type": "pie"
           }
          ],
          "scatter": [
           {
            "fillpattern": {
             "fillmode": "overlay",
             "size": 10,
             "solidity": 0.2
            },
            "type": "scatter"
           }
          ],
          "scatter3d": [
           {
            "line": {
             "colorbar": {
              "outlinewidth": 0,
              "ticks": ""
             }
            },
            "marker": {
             "colorbar": {
              "outlinewidth": 0,
              "ticks": ""
             }
            },
            "type": "scatter3d"
           }
          ],
          "scattercarpet": [
           {
            "marker": {
             "colorbar": {
              "outlinewidth": 0,
              "ticks": ""
             }
            },
            "type": "scattercarpet"
           }
          ],
          "scattergeo": [
           {
            "marker": {
             "colorbar": {
              "outlinewidth": 0,
              "ticks": ""
             }
            },
            "type": "scattergeo"
           }
          ],
          "scattergl": [
           {
            "marker": {
             "colorbar": {
              "outlinewidth": 0,
              "ticks": ""
             }
            },
            "type": "scattergl"
           }
          ],
          "scattermapbox": [
           {
            "marker": {
             "colorbar": {
              "outlinewidth": 0,
              "ticks": ""
             }
            },
            "type": "scattermapbox"
           }
          ],
          "scatterpolar": [
           {
            "marker": {
             "colorbar": {
              "outlinewidth": 0,
              "ticks": ""
             }
            },
            "type": "scatterpolar"
           }
          ],
          "scatterpolargl": [
           {
            "marker": {
             "colorbar": {
              "outlinewidth": 0,
              "ticks": ""
             }
            },
            "type": "scatterpolargl"
           }
          ],
          "scatterternary": [
           {
            "marker": {
             "colorbar": {
              "outlinewidth": 0,
              "ticks": ""
             }
            },
            "type": "scatterternary"
           }
          ],
          "surface": [
           {
            "colorbar": {
             "outlinewidth": 0,
             "ticks": ""
            },
            "colorscale": [
             [
              0,
              "#0d0887"
             ],
             [
              0.1111111111111111,
              "#46039f"
             ],
             [
              0.2222222222222222,
              "#7201a8"
             ],
             [
              0.3333333333333333,
              "#9c179e"
             ],
             [
              0.4444444444444444,
              "#bd3786"
             ],
             [
              0.5555555555555556,
              "#d8576b"
             ],
             [
              0.6666666666666666,
              "#ed7953"
             ],
             [
              0.7777777777777778,
              "#fb9f3a"
             ],
             [
              0.8888888888888888,
              "#fdca26"
             ],
             [
              1,
              "#f0f921"
             ]
            ],
            "type": "surface"
           }
          ],
          "table": [
           {
            "cells": {
             "fill": {
              "color": "#EBF0F8"
             },
             "line": {
              "color": "white"
             }
            },
            "header": {
             "fill": {
              "color": "#C8D4E3"
             },
             "line": {
              "color": "white"
             }
            },
            "type": "table"
           }
          ]
         },
         "layout": {
          "annotationdefaults": {
           "arrowcolor": "#2a3f5f",
           "arrowhead": 0,
           "arrowwidth": 1
          },
          "autotypenumbers": "strict",
          "coloraxis": {
           "colorbar": {
            "outlinewidth": 0,
            "ticks": ""
           }
          },
          "colorscale": {
           "diverging": [
            [
             0,
             "#8e0152"
            ],
            [
             0.1,
             "#c51b7d"
            ],
            [
             0.2,
             "#de77ae"
            ],
            [
             0.3,
             "#f1b6da"
            ],
            [
             0.4,
             "#fde0ef"
            ],
            [
             0.5,
             "#f7f7f7"
            ],
            [
             0.6,
             "#e6f5d0"
            ],
            [
             0.7,
             "#b8e186"
            ],
            [
             0.8,
             "#7fbc41"
            ],
            [
             0.9,
             "#4d9221"
            ],
            [
             1,
             "#276419"
            ]
           ],
           "sequential": [
            [
             0,
             "#0d0887"
            ],
            [
             0.1111111111111111,
             "#46039f"
            ],
            [
             0.2222222222222222,
             "#7201a8"
            ],
            [
             0.3333333333333333,
             "#9c179e"
            ],
            [
             0.4444444444444444,
             "#bd3786"
            ],
            [
             0.5555555555555556,
             "#d8576b"
            ],
            [
             0.6666666666666666,
             "#ed7953"
            ],
            [
             0.7777777777777778,
             "#fb9f3a"
            ],
            [
             0.8888888888888888,
             "#fdca26"
            ],
            [
             1,
             "#f0f921"
            ]
           ],
           "sequentialminus": [
            [
             0,
             "#0d0887"
            ],
            [
             0.1111111111111111,
             "#46039f"
            ],
            [
             0.2222222222222222,
             "#7201a8"
            ],
            [
             0.3333333333333333,
             "#9c179e"
            ],
            [
             0.4444444444444444,
             "#bd3786"
            ],
            [
             0.5555555555555556,
             "#d8576b"
            ],
            [
             0.6666666666666666,
             "#ed7953"
            ],
            [
             0.7777777777777778,
             "#fb9f3a"
            ],
            [
             0.8888888888888888,
             "#fdca26"
            ],
            [
             1,
             "#f0f921"
            ]
           ]
          },
          "colorway": [
           "#636efa",
           "#EF553B",
           "#00cc96",
           "#ab63fa",
           "#FFA15A",
           "#19d3f3",
           "#FF6692",
           "#B6E880",
           "#FF97FF",
           "#FECB52"
          ],
          "font": {
           "color": "#2a3f5f"
          },
          "geo": {
           "bgcolor": "white",
           "lakecolor": "white",
           "landcolor": "#E5ECF6",
           "showlakes": true,
           "showland": true,
           "subunitcolor": "white"
          },
          "hoverlabel": {
           "align": "left"
          },
          "hovermode": "closest",
          "mapbox": {
           "style": "light"
          },
          "paper_bgcolor": "white",
          "plot_bgcolor": "#E5ECF6",
          "polar": {
           "angularaxis": {
            "gridcolor": "white",
            "linecolor": "white",
            "ticks": ""
           },
           "bgcolor": "#E5ECF6",
           "radialaxis": {
            "gridcolor": "white",
            "linecolor": "white",
            "ticks": ""
           }
          },
          "scene": {
           "xaxis": {
            "backgroundcolor": "#E5ECF6",
            "gridcolor": "white",
            "gridwidth": 2,
            "linecolor": "white",
            "showbackground": true,
            "ticks": "",
            "zerolinecolor": "white"
           },
           "yaxis": {
            "backgroundcolor": "#E5ECF6",
            "gridcolor": "white",
            "gridwidth": 2,
            "linecolor": "white",
            "showbackground": true,
            "ticks": "",
            "zerolinecolor": "white"
           },
           "zaxis": {
            "backgroundcolor": "#E5ECF6",
            "gridcolor": "white",
            "gridwidth": 2,
            "linecolor": "white",
            "showbackground": true,
            "ticks": "",
            "zerolinecolor": "white"
           }
          },
          "shapedefaults": {
           "line": {
            "color": "#2a3f5f"
           }
          },
          "ternary": {
           "aaxis": {
            "gridcolor": "white",
            "linecolor": "white",
            "ticks": ""
           },
           "baxis": {
            "gridcolor": "white",
            "linecolor": "white",
            "ticks": ""
           },
           "bgcolor": "#E5ECF6",
           "caxis": {
            "gridcolor": "white",
            "linecolor": "white",
            "ticks": ""
           }
          },
          "title": {
           "x": 0.05
          },
          "xaxis": {
           "automargin": true,
           "gridcolor": "white",
           "linecolor": "white",
           "ticks": "",
           "title": {
            "standoff": 15
           },
           "zerolinecolor": "white",
           "zerolinewidth": 2
          },
          "yaxis": {
           "automargin": true,
           "gridcolor": "white",
           "linecolor": "white",
           "ticks": "",
           "title": {
            "standoff": 15
           },
           "zerolinecolor": "white",
           "zerolinewidth": 2
          }
         }
        },
        "xaxis": {
         "anchor": "y",
         "domain": [
          0,
          1
         ],
         "title": {
          "text": "Sector"
         }
        },
        "yaxis": {
         "anchor": "x",
         "domain": [
          0,
          1
         ],
         "title": {
          "text": "Energy Consume (Triliun BTU)"
         }
        }
       }
      }
     },
     "metadata": {},
     "output_type": "display_data"
    }
   ],
   "source": [
    "# Melt the DataFrame to have 'Sector' as the categorical variable and float-type columns as values\n",
    "melted_df = energy_sector_cons.melt(id_vars='Sector',\n",
    "                                    value_vars=energy_sector_cons.select_dtypes(include='float').columns)\n",
    "\n",
    "change_name = melted_df.set_axis(['Sector','Energy Type', 'Energy Consume (Triliun BTU)'], axis='columns')\n",
    "\n",
    "fig = px.bar(change_name, x='Sector', y='Energy Consume (Triliun BTU)', color='Energy Type')\n",
    "\n",
    "fig.show()"
   ]
  },
  {
   "cell_type": "markdown",
   "metadata": {},
   "source": [
    "Berdasarkan grafik tersebut, dapat diketahui bahwa energi yang bersumber dari kayu merupakan sumber energi yang paling banyak digunakan setiap tahunnya di tiga sektor yang berbeda yaitu sektor industri, perumahan, dan komersil. Sedangkan sektor pembangkit listrik didominasi oleh pembangkit listrik tenaga air konvensional, dan sektor transportasi didominasi oleh bahan bakar ethanol.\n",
    "\n",
    "Hal ini wajar saja terjadi mengingat sektor pembangkit listrik dan transportasi secara umum memang jarang menggunakan kayu sebagai sumber energi alternatif. Pembangkit listrik secara dominan lebih memilih pembangkit listrik tenaga air konvensional sebagai sumber energi utama karena itu adalah yang paling sesuai bagi keberlangsungan sektor mereka kedepannya. Hal ini juga berlaku pada sektor transportasi dimana bahan bakar ethanol adalah sumber energi yang paling sesuai bagi sektor mereka. "
   ]
  },
  {
   "cell_type": "markdown",
   "metadata": {},
   "source": [
    "### **5. Bagaimana pola grafik total penggunaan sumber energi berdasarkan sektor di setiap tahunnya?**"
   ]
  },
  {
   "cell_type": "code",
   "execution_count": 26,
   "metadata": {},
   "outputs": [],
   "source": [
    "df_copy = df.drop(columns=['Month','Biomass Energy','Total Renewable Energy'])"
   ]
  },
  {
   "cell_type": "code",
   "execution_count": 27,
   "metadata": {},
   "outputs": [],
   "source": [
    "energy_column = df_copy.select_dtypes(include='float').columns\n",
    "\n",
    "df_copy['Total_Energy'] = df_copy[energy_column].sum(axis=1)\n",
    "\n",
    "# Group by 'Sector' and 'Year', summing up 'Total_Energy'\n",
    "sector_energy = df_copy.groupby(['Sector', 'Year'])['Total_Energy'].sum().reset_index()\n",
    "\n",
    "# Pivot the table to have sectors as columns\n",
    "total_energy = sector_energy.pivot_table(index='Year', columns='Sector', values='Total_Energy').reset_index()"
   ]
  },
  {
   "cell_type": "code",
   "execution_count": 28,
   "metadata": {},
   "outputs": [
    {
     "data": {
      "image/png": "[encoded data removed]",
      "text/plain": [
       "<Figure size 640x480 with 1 Axes>"
      ]
     },
     "metadata": {},
     "output_type": "display_data"
    }
   ],
   "source": [
    "total_energy.plot(x='Year', y=['Commercial', 'Electric Power', 'Industrial', 'Residential',\n",
    "       'Transportation'], kind='line', xlabel='Year')\n",
    "plt.tight_layout()\n",
    "plt.grid(True)"
   ]
  },
  {
   "cell_type": "markdown",
   "metadata": {},
   "source": [
    "Berdasarkan grafik tersebut, dapat diketahui bahwa **pola grafik** penggunaan sumber energi berdasarkan sektor secara dominan mengalami **fluktuasi yang cukup tinggi**, namun **diikuti** oleh **pola grafik yang bergerak ke atas bahkan tumbuh secara eksponensial**. Akan tetapi, dua sektor lainnya justru mengalami pertumbuhan yang konstan bahkan mengalami penurunan. **Penurunan** terjadi **pada sektor perumahan** yaitu **sejak tahun 1989 hingga 2000**, namun di tahun berikutnya grafik mulai mengalami pergerakan yang fluktuatif namun tetap konstan. Sedangkan sektor komersil justru mengalami pertumbuhan yang rendah namun sangat stabil dengan fluktuasi yang sangat minim.\n",
    "\n",
    "Selain itu, berdasarkan hasil analisa yang dilakukan sebelumnya, sektor industri merupakan sektor yang paling banyak menggunakan energi terbarukan sebagai sumber energi dibandingkan sektor lainnya. Tetapi, yang menarik adalah jika dilihat dalam bentuk pola grafik di setiap tahunnya, sejak tahun 2018 pertumbuhan dari sektor pembangkit listrik justru melampaui sektor industri dalam hal penggunaan energi terbarukan. Hal ini menandakan bahwa dalam waktu dekat ada kemungkinan bahwa sektor pembangkit listrik dapat melampaui sektor industri sebagai sektor dengan penggunaan energi terbarukan tertinggi."
   ]
  }
 ],
 "metadata": {
  "kernelspec": {
   "display_name": "Python 3",
   "language": "python",
   "name": "python3"
  },
  "language_info": {
   "codemirror_mode": {
    "name": "ipython",
    "version": 3
   },
   "file_extension": ".py",
   "mimetype": "text/x-python",
   "name": "python",
   "nbconvert_exporter": "python",
   "pygments_lexer": "ipython3",
   "version": "3.12.1"
  }
 },
 "nbformat": 4,
 "nbformat_minor": 2
}
